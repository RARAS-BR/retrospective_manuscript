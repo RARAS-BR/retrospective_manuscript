{
 "cells": [
  {
   "cell_type": "markdown",
   "source": [
    "# RARAS - Descriptive analysis of the Retrospective study"
   ],
   "metadata": {
    "collapsed": false
   },
   "id": "c25b62238eef664e"
  },
  {
   "cell_type": "markdown",
   "source": [
    "## Config and load data"
   ],
   "metadata": {
    "collapsed": false
   },
   "id": "12a8eccb2625479"
  },
  {
   "cell_type": "code",
   "execution_count": 1,
   "outputs": [
    {
     "data": {
      "text/plain": "((12269, 18), (12261, 20), (11871, 9), (9561, 9), (12269, 10))"
     },
     "execution_count": 1,
     "metadata": {},
     "output_type": "execute_result"
    }
   ],
   "source": [
    "import pandas as pd\n",
    "from scripts.functions import custom_value_counts, create_descriptive_table, create_disease_count\n",
    "\n",
    "# Terminal colors\n",
    "R = '\\033[0m'\n",
    "C = '\\033[1;36m'\n",
    "Y = '\\033[1m\\033[38;5;220m'\n",
    "\n",
    "# Pandas options\n",
    "pd.options.display.float_format = '{:.2f}'.format\n",
    "\n",
    "# Apply the decorator to the original value_counts method\n",
    "pd.Series.value_counts = custom_value_counts(pd.Series.value_counts)\n",
    "pd.DataFrame.value_counts = custom_value_counts(pd.DataFrame.value_counts)\n",
    "\n",
    "# Load files\n",
    "id_df = pd.read_csv('data/identification.csv')\n",
    "diag_df = pd.read_csv('data/diagnostic.csv')\n",
    "trat_df = pd.read_csv('data/treatment.csv')\n",
    "trat_type_df = pd.read_csv('data/treatment_type.csv')\n",
    "followup_df = pd.read_csv('data/follow_up.csv')\n",
    "\n",
    "# Create masks\n",
    "confirmed_diag_mask = diag_df['diagnostic_status'] == 'Confirmed diagnosis'\n",
    "suspect_diag_mask = diag_df['diagnostic_status'] == 'Suspected diagnosis'\n",
    "undiagnosed_mask = diag_df['diagnostic_status'] == 'Undiagnosed'\n",
    "\n",
    "id_df.shape, diag_df.shape, trat_df.shape, trat_type_df.shape, followup_df.shape"
   ],
   "metadata": {
    "collapsed": true,
    "ExecuteTime": {
     "end_time": "2023-12-09T21:06:36.085804300Z",
     "start_time": "2023-12-09T21:06:34.999785900Z"
    }
   },
   "id": "initial_id"
  },
  {
   "cell_type": "markdown",
   "source": [
    "## Identification features ✔"
   ],
   "metadata": {
    "collapsed": false
   },
   "id": "5425b036a5cfdd13"
  },
  {
   "cell_type": "code",
   "execution_count": 2,
   "outputs": [
    {
     "name": "stdout",
     "output_type": "stream",
     "text": [
      "\u001B[1m\u001B[38;5;220mIdentification form preview:\u001B[0m\n"
     ]
    },
    {
     "data": {
      "text/plain": "   record_id  center_id revised_consultation_date  \\\n0          1          1                2018-01-04   \n1          2          1                2018-01-09   \n2          3          1                2018-01-09   \n3          4          1                2018-01-11   \n4          5          1                2018-01-11   \n\n  first_consultation_date_center first_consultation_date_specialty  \\\n0                     2010-05-27                        2010-05-27   \n1                     2000-05-18                        2000-08-30   \n2                     2007-09-24                        2007-09-24   \n3                     2004-08-20                        2004-08-20   \n4                     2014-10-20                               NaN   \n\n   birth_date   age color_or_race     sex                   birth_city  \\\n0  1993-10-07 24.24         White  Female               Sapiranga - RS   \n1  1956-07-01 61.52         White  Female            Porto Alegre - RS   \n2  1984-03-04 33.85         White  Female  São Francisco de Paula - RS   \n3  1984-05-10 33.67         White  Female              Ibiraiaras - RS   \n4  2001-11-01 16.19         White  Female         Bento Gonçalves - RS   \n\n  birth_region birth_country residence_region        residence_city  \\\n0        South           NaN            South       Nova Hartz - RS   \n1        South           NaN            South     Porto Alegre - RS   \n2        South           NaN            South           Parobé - RS   \n3        South           NaN            South     Porto Alegre - RS   \n4        South           NaN            South  Bento Gonçalves - RS   \n\n   age_at_first_evaluation_at_center  age_at_first_evaluation_at_specialty  \\\n0                              16.64                                 16.64   \n1                              43.88                                 44.16   \n2                              23.56                                 23.56   \n3                              20.28                                 20.28   \n4                              12.97                                   NaN   \n\n   length_of_follow_up_at_center  length_of_follow_up_at_specialty  \n0                           7.61                              7.61  \n1                          17.65                             17.36  \n2                          10.29                             10.29  \n3                          13.39                             13.39  \n4                           3.23                               NaN  ",
      "text/html": "<div>\n<style scoped>\n    .dataframe tbody tr th:only-of-type {\n        vertical-align: middle;\n    }\n\n    .dataframe tbody tr th {\n        vertical-align: top;\n    }\n\n    .dataframe thead th {\n        text-align: right;\n    }\n</style>\n<table border=\"1\" class=\"dataframe\">\n  <thead>\n    <tr style=\"text-align: right;\">\n      <th></th>\n      <th>record_id</th>\n      <th>center_id</th>\n      <th>revised_consultation_date</th>\n      <th>first_consultation_date_center</th>\n      <th>first_consultation_date_specialty</th>\n      <th>birth_date</th>\n      <th>age</th>\n      <th>color_or_race</th>\n      <th>sex</th>\n      <th>birth_city</th>\n      <th>birth_region</th>\n      <th>birth_country</th>\n      <th>residence_region</th>\n      <th>residence_city</th>\n      <th>age_at_first_evaluation_at_center</th>\n      <th>age_at_first_evaluation_at_specialty</th>\n      <th>length_of_follow_up_at_center</th>\n      <th>length_of_follow_up_at_specialty</th>\n    </tr>\n  </thead>\n  <tbody>\n    <tr>\n      <th>0</th>\n      <td>1</td>\n      <td>1</td>\n      <td>2018-01-04</td>\n      <td>2010-05-27</td>\n      <td>2010-05-27</td>\n      <td>1993-10-07</td>\n      <td>24.24</td>\n      <td>White</td>\n      <td>Female</td>\n      <td>Sapiranga - RS</td>\n      <td>South</td>\n      <td>NaN</td>\n      <td>South</td>\n      <td>Nova Hartz - RS</td>\n      <td>16.64</td>\n      <td>16.64</td>\n      <td>7.61</td>\n      <td>7.61</td>\n    </tr>\n    <tr>\n      <th>1</th>\n      <td>2</td>\n      <td>1</td>\n      <td>2018-01-09</td>\n      <td>2000-05-18</td>\n      <td>2000-08-30</td>\n      <td>1956-07-01</td>\n      <td>61.52</td>\n      <td>White</td>\n      <td>Female</td>\n      <td>Porto Alegre - RS</td>\n      <td>South</td>\n      <td>NaN</td>\n      <td>South</td>\n      <td>Porto Alegre - RS</td>\n      <td>43.88</td>\n      <td>44.16</td>\n      <td>17.65</td>\n      <td>17.36</td>\n    </tr>\n    <tr>\n      <th>2</th>\n      <td>3</td>\n      <td>1</td>\n      <td>2018-01-09</td>\n      <td>2007-09-24</td>\n      <td>2007-09-24</td>\n      <td>1984-03-04</td>\n      <td>33.85</td>\n      <td>White</td>\n      <td>Female</td>\n      <td>São Francisco de Paula - RS</td>\n      <td>South</td>\n      <td>NaN</td>\n      <td>South</td>\n      <td>Parobé - RS</td>\n      <td>23.56</td>\n      <td>23.56</td>\n      <td>10.29</td>\n      <td>10.29</td>\n    </tr>\n    <tr>\n      <th>3</th>\n      <td>4</td>\n      <td>1</td>\n      <td>2018-01-11</td>\n      <td>2004-08-20</td>\n      <td>2004-08-20</td>\n      <td>1984-05-10</td>\n      <td>33.67</td>\n      <td>White</td>\n      <td>Female</td>\n      <td>Ibiraiaras - RS</td>\n      <td>South</td>\n      <td>NaN</td>\n      <td>South</td>\n      <td>Porto Alegre - RS</td>\n      <td>20.28</td>\n      <td>20.28</td>\n      <td>13.39</td>\n      <td>13.39</td>\n    </tr>\n    <tr>\n      <th>4</th>\n      <td>5</td>\n      <td>1</td>\n      <td>2018-01-11</td>\n      <td>2014-10-20</td>\n      <td>NaN</td>\n      <td>2001-11-01</td>\n      <td>16.19</td>\n      <td>White</td>\n      <td>Female</td>\n      <td>Bento Gonçalves - RS</td>\n      <td>South</td>\n      <td>NaN</td>\n      <td>South</td>\n      <td>Bento Gonçalves - RS</td>\n      <td>12.97</td>\n      <td>NaN</td>\n      <td>3.23</td>\n      <td>NaN</td>\n    </tr>\n  </tbody>\n</table>\n</div>"
     },
     "metadata": {},
     "output_type": "display_data"
    }
   ],
   "source": [
    "print(f'{Y}Identification form preview:{R}')\n",
    "display(id_df.head())"
   ],
   "metadata": {
    "collapsed": false,
    "ExecuteTime": {
     "end_time": "2023-12-09T21:06:36.183144800Z",
     "start_time": "2023-12-09T21:06:36.060724700Z"
    }
   },
   "id": "c0e0c55c5f7cc12b"
  },
  {
   "cell_type": "code",
   "execution_count": 3,
   "outputs": [
    {
     "name": "stdout",
     "output_type": "stream",
     "text": [
      "\u001B[1m\u001B[38;5;220mTotal participants:\u001B[0m 12269\n",
      "\u001B[1m\u001B[38;5;220mTotal of centers:\u001B[0m 34\n",
      "\u001B[1m\u001B[38;5;220mTotal of cities of birth:\u001B[0m 1723\n",
      "\u001B[1m\u001B[38;5;220mNumber of record_ids in more than one center_id:\u001B[0m 86\n"
     ]
    }
   ],
   "source": [
    "print(f'{Y}Total participants:{R}', id_df['record_id'].nunique())\n",
    "print(f'{Y}Total of centers:{R}', id_df['center_id'].nunique())\n",
    "print(f'{Y}Total of cities of birth:{R}', id_df['birth_city'].nunique())\n",
    "print(f'{Y}Number of record_ids in more than one center_id:{R}', 86)\n",
    "# df = pd.read_csv('scripts/original_data/identificacao.csv')\n",
    "# df = df[df['project_id']==17]\n",
    "# df.groupby('nome')['id_centro'].nunique().value_counts()"
   ],
   "metadata": {
    "collapsed": false,
    "ExecuteTime": {
     "end_time": "2023-12-09T21:06:36.185509900Z",
     "start_time": "2023-12-09T21:06:36.095034500Z"
    }
   },
   "id": "e3078854a4f5a9e8"
  },
  {
   "cell_type": "markdown",
   "source": [
    "## Diagnostic features ✔"
   ],
   "metadata": {
    "collapsed": false
   },
   "id": "346b509d1823f3f8"
  },
  {
   "cell_type": "code",
   "execution_count": 4,
   "outputs": [
    {
     "name": "stdout",
     "output_type": "stream",
     "text": [
      "\u001B[1m\u001B[38;5;220mDiagnostic form preview:\u001B[0m\n"
     ]
    },
    {
     "data": {
      "text/plain": "   record_id  center_id  instance_id    diagnostic_status disease_cid10  \\\n0          1          1            1  Confirmed diagnosis           NaN   \n1          2          1            1  Confirmed diagnosis           NaN   \n2          3          1            1  Confirmed diagnosis           NaN   \n3          4          1            1  Confirmed diagnosis           NaN   \n4          5          1            1  Confirmed diagnosis           NaN   \n\n                                       disease_orpha disease_omim  \\\n0                      110, Síndrome de Bardet-Biedl          NaN   \n1            355, Doença de Gaucher (termo genérico)          NaN   \n2               273, Distrofia miotónica de Steinert          NaN   \n3             579, Mucopolissacaridose tipo 1 (MPS1)          NaN   \n4  315306, Hiperplasia adrenal congénita classica...          NaN   \n\n  diagnostic_payer_source  diagnostic_moment diagnostic_date  \\\n0                     NaN          Postnatal      2010-05-27   \n1        Pesquisa clínica          Postnatal             NaN   \n2                     NaN          Postnatal             NaN   \n3                     SUS          Postnatal      2004-10-01   \n4                     SUS  Newborn screening             NaN   \n\n                                            symptoms family_recurrence  \\\n0                 HP:0001830, HP:0001956, HP:0002514               Yes   \n1                 HP:0004859, HP:0001744, HP:0001903                No   \n2                             HP:0002058, HP:0020034               Yes   \n3  HP:0010535, HP:0007957, HP:0002828, HP:0000280...                No   \n4                             HP:0001007, HP:0000062                No   \n\n  consanguinity  age_at_symptoms_onset_days            diagnostic_type  \\\n0            No                        0.00                   Clinical   \n1            No                    10950.00    Molecular (Etiological)   \n2            No                     7300.00    Molecular (Etiological)   \n3            No                     2190.00  Biochemical (Etiological)   \n4            No                        0.00  Biochemical (Etiological)   \n\n   maternal_age_at_birth  paternal_age_at_birth  age_at_symptoms_onset  \\\n0                    NaN                    NaN                   0.00   \n1                    NaN                    NaN                  29.98   \n2                    NaN                  26.00                  19.99   \n3                  24.00                  27.00                   6.00   \n4                    NaN                    NaN                   0.00   \n\n   age_at_diagnosis  diagnostic_odyssey  \n0             16.64               16.64  \n1               NaN                 NaN  \n2               NaN                 NaN  \n3             20.39               20.38  \n4               NaN                 NaN  ",
      "text/html": "<div>\n<style scoped>\n    .dataframe tbody tr th:only-of-type {\n        vertical-align: middle;\n    }\n\n    .dataframe tbody tr th {\n        vertical-align: top;\n    }\n\n    .dataframe thead th {\n        text-align: right;\n    }\n</style>\n<table border=\"1\" class=\"dataframe\">\n  <thead>\n    <tr style=\"text-align: right;\">\n      <th></th>\n      <th>record_id</th>\n      <th>center_id</th>\n      <th>instance_id</th>\n      <th>diagnostic_status</th>\n      <th>disease_cid10</th>\n      <th>disease_orpha</th>\n      <th>disease_omim</th>\n      <th>diagnostic_payer_source</th>\n      <th>diagnostic_moment</th>\n      <th>diagnostic_date</th>\n      <th>symptoms</th>\n      <th>family_recurrence</th>\n      <th>consanguinity</th>\n      <th>age_at_symptoms_onset_days</th>\n      <th>diagnostic_type</th>\n      <th>maternal_age_at_birth</th>\n      <th>paternal_age_at_birth</th>\n      <th>age_at_symptoms_onset</th>\n      <th>age_at_diagnosis</th>\n      <th>diagnostic_odyssey</th>\n    </tr>\n  </thead>\n  <tbody>\n    <tr>\n      <th>0</th>\n      <td>1</td>\n      <td>1</td>\n      <td>1</td>\n      <td>Confirmed diagnosis</td>\n      <td>NaN</td>\n      <td>110, Síndrome de Bardet-Biedl</td>\n      <td>NaN</td>\n      <td>NaN</td>\n      <td>Postnatal</td>\n      <td>2010-05-27</td>\n      <td>HP:0001830, HP:0001956, HP:0002514</td>\n      <td>Yes</td>\n      <td>No</td>\n      <td>0.00</td>\n      <td>Clinical</td>\n      <td>NaN</td>\n      <td>NaN</td>\n      <td>0.00</td>\n      <td>16.64</td>\n      <td>16.64</td>\n    </tr>\n    <tr>\n      <th>1</th>\n      <td>2</td>\n      <td>1</td>\n      <td>1</td>\n      <td>Confirmed diagnosis</td>\n      <td>NaN</td>\n      <td>355, Doença de Gaucher (termo genérico)</td>\n      <td>NaN</td>\n      <td>Pesquisa clínica</td>\n      <td>Postnatal</td>\n      <td>NaN</td>\n      <td>HP:0004859, HP:0001744, HP:0001903</td>\n      <td>No</td>\n      <td>No</td>\n      <td>10950.00</td>\n      <td>Molecular (Etiological)</td>\n      <td>NaN</td>\n      <td>NaN</td>\n      <td>29.98</td>\n      <td>NaN</td>\n      <td>NaN</td>\n    </tr>\n    <tr>\n      <th>2</th>\n      <td>3</td>\n      <td>1</td>\n      <td>1</td>\n      <td>Confirmed diagnosis</td>\n      <td>NaN</td>\n      <td>273, Distrofia miotónica de Steinert</td>\n      <td>NaN</td>\n      <td>NaN</td>\n      <td>Postnatal</td>\n      <td>NaN</td>\n      <td>HP:0002058, HP:0020034</td>\n      <td>Yes</td>\n      <td>No</td>\n      <td>7300.00</td>\n      <td>Molecular (Etiological)</td>\n      <td>NaN</td>\n      <td>26.00</td>\n      <td>19.99</td>\n      <td>NaN</td>\n      <td>NaN</td>\n    </tr>\n    <tr>\n      <th>3</th>\n      <td>4</td>\n      <td>1</td>\n      <td>1</td>\n      <td>Confirmed diagnosis</td>\n      <td>NaN</td>\n      <td>579, Mucopolissacaridose tipo 1 (MPS1)</td>\n      <td>NaN</td>\n      <td>SUS</td>\n      <td>Postnatal</td>\n      <td>2004-10-01</td>\n      <td>HP:0010535, HP:0007957, HP:0002828, HP:0000280...</td>\n      <td>No</td>\n      <td>No</td>\n      <td>2190.00</td>\n      <td>Biochemical (Etiological)</td>\n      <td>24.00</td>\n      <td>27.00</td>\n      <td>6.00</td>\n      <td>20.39</td>\n      <td>20.38</td>\n    </tr>\n    <tr>\n      <th>4</th>\n      <td>5</td>\n      <td>1</td>\n      <td>1</td>\n      <td>Confirmed diagnosis</td>\n      <td>NaN</td>\n      <td>315306, Hiperplasia adrenal congénita classica...</td>\n      <td>NaN</td>\n      <td>SUS</td>\n      <td>Newborn screening</td>\n      <td>NaN</td>\n      <td>HP:0001007, HP:0000062</td>\n      <td>No</td>\n      <td>No</td>\n      <td>0.00</td>\n      <td>Biochemical (Etiological)</td>\n      <td>NaN</td>\n      <td>NaN</td>\n      <td>0.00</td>\n      <td>NaN</td>\n      <td>NaN</td>\n    </tr>\n  </tbody>\n</table>\n</div>"
     },
     "metadata": {},
     "output_type": "display_data"
    },
    {
     "name": "stdout",
     "output_type": "stream",
     "text": [
      "\u001B[1m\u001B[38;5;220mNumber of symptoms mean:\u001B[0m 2.83\n",
      "\u001B[1m\u001B[38;5;220mNumber of confirmed diagnoses, grouped by participant\u001B[0m\n",
      " N diagnoses  N participants\n",
      "           1            7667\n",
      "           2              65\n",
      "           3               2\n",
      "\u001B[1m\u001B[38;5;220mType of diagnostic distribution\u001B[0m\n",
      "                        n     %\n",
      "Clinical             2767 36.34\n",
      "Biochemical          2067 27.14\n",
      "Molecular            1497 19.66\n",
      "Cytogenetic           613  8.05\n",
      "Anatomopathological   588  7.72\n",
      "Etiological            83  1.09\n",
      "\u001B[1m\u001B[38;5;220mEtiological diagnostic distribution, among confirmed diagnoses\u001B[0m\n",
      "                                      n     %\n",
      "Biochemical (Etiological)          2067 42.64\n",
      "Molecular (Etiological)            1496 30.86\n",
      "Cytogenetic (Etiological)           613 12.65\n",
      "Anatomopathological (Etiological)   588 12.13\n",
      "Etiological                          83  1.71\n",
      "\u001B[1m\u001B[38;5;220mMost common disorders, by ORPHA code:\u001B[0m\n",
      "716, Fenilcetonúria                         530\n",
      "98896, Distrofia muscular, tipo Duchenne    202\n",
      "803, Esclerose lateral amiotrófica (ELA)    159\n",
      "442, Hipotiroidismo congénito               152\n",
      "881, Síndrome de Turner                     151\n",
      "\u001B[1m\u001B[38;5;220mTerminologies\u001B[0m\n",
      "ORPHA \t 6569 \t (65.03%)\n",
      "OMIM \t 798 \t (7.90%)\n",
      "CID10 \t 2735 \t (27.07%)\n",
      "Most common disorders, excluding newborn screening\n"
     ]
    },
    {
     "data": {
      "text/plain": "                                                                                      n\nPhenylketonuria (n=166)         orpha 716                                           135\n                                omim 261600                                          24\n                                cid10 E70.0                                           7\nCystic Fibrosis (n=383)         cid10 E84.9                                         150\n                                cid10 E84.0                                          81\n                                orpha 586                                            74\n                                cid10 E84.8                                          66\n                                cid10 E84.1                                           9\n                                omim 219700                                           3\nAcromegaly (n=375)              cid10 E22.0                                         277\n                                orpha 963                                            98\nOsteogenesis Imperfecta (n=352) cid10 Q78.0                                         174\n                                orpha 666                                            58\n                                orpha 216796                                         55\n                                orpha 216820                                         33\n                                orpha 216812                                         23\n                                orpha 2771                                            3\n                                omim 610682 - 610915 - 610967 - 610968 - 613848...    3\n                                orpha 216804                                          1\n                                orpha 216828                                          1\n                                omim 610967                                           1",
      "text/html": "<div>\n<style scoped>\n    .dataframe tbody tr th:only-of-type {\n        vertical-align: middle;\n    }\n\n    .dataframe tbody tr th {\n        vertical-align: top;\n    }\n\n    .dataframe thead th {\n        text-align: right;\n    }\n</style>\n<table border=\"1\" class=\"dataframe\">\n  <thead>\n    <tr style=\"text-align: right;\">\n      <th></th>\n      <th></th>\n      <th>n</th>\n    </tr>\n  </thead>\n  <tbody>\n    <tr>\n      <th rowspan=\"3\" valign=\"top\">Phenylketonuria (n=166)</th>\n      <th>orpha 716</th>\n      <td>135</td>\n    </tr>\n    <tr>\n      <th>omim 261600</th>\n      <td>24</td>\n    </tr>\n    <tr>\n      <th>cid10 E70.0</th>\n      <td>7</td>\n    </tr>\n    <tr>\n      <th rowspan=\"6\" valign=\"top\">Cystic Fibrosis (n=383)</th>\n      <th>cid10 E84.9</th>\n      <td>150</td>\n    </tr>\n    <tr>\n      <th>cid10 E84.0</th>\n      <td>81</td>\n    </tr>\n    <tr>\n      <th>orpha 586</th>\n      <td>74</td>\n    </tr>\n    <tr>\n      <th>cid10 E84.8</th>\n      <td>66</td>\n    </tr>\n    <tr>\n      <th>cid10 E84.1</th>\n      <td>9</td>\n    </tr>\n    <tr>\n      <th>omim 219700</th>\n      <td>3</td>\n    </tr>\n    <tr>\n      <th rowspan=\"2\" valign=\"top\">Acromegaly (n=375)</th>\n      <th>cid10 E22.0</th>\n      <td>277</td>\n    </tr>\n    <tr>\n      <th>orpha 963</th>\n      <td>98</td>\n    </tr>\n    <tr>\n      <th rowspan=\"10\" valign=\"top\">Osteogenesis Imperfecta (n=352)</th>\n      <th>cid10 Q78.0</th>\n      <td>174</td>\n    </tr>\n    <tr>\n      <th>orpha 666</th>\n      <td>58</td>\n    </tr>\n    <tr>\n      <th>orpha 216796</th>\n      <td>55</td>\n    </tr>\n    <tr>\n      <th>orpha 216820</th>\n      <td>33</td>\n    </tr>\n    <tr>\n      <th>orpha 216812</th>\n      <td>23</td>\n    </tr>\n    <tr>\n      <th>orpha 2771</th>\n      <td>3</td>\n    </tr>\n    <tr>\n      <th>omim 610682 - 610915 - 610967 - 610968 - 613848 - 613849 - 613982 - 614856 - 615066 - 615220 - 616229 - 616507 - 166200 - 166210 - 166220 - 166230 - 259420 - 259440</th>\n      <td>3</td>\n    </tr>\n    <tr>\n      <th>orpha 216804</th>\n      <td>1</td>\n    </tr>\n    <tr>\n      <th>orpha 216828</th>\n      <td>1</td>\n    </tr>\n    <tr>\n      <th>omim 610967</th>\n      <td>1</td>\n    </tr>\n  </tbody>\n</table>\n</div>"
     },
     "metadata": {},
     "output_type": "display_data"
    }
   ],
   "source": [
    "print(f'{Y}Diagnostic form preview:{R}')\n",
    "display(diag_df.head())\n",
    "\n",
    "print(f\"{Y}Number of symptoms mean:{R} {diag_df['symptoms'].dropna().str.split(', ').apply(len).mean():.2f}\")\n",
    "print(f'{Y}Number of confirmed diagnoses, grouped by participant{R}')\n",
    "print(\n",
    "    diag_df\n",
    "    [confirmed_diag_mask]\n",
    "    .groupby('record_id')\n",
    "    ['diagnostic_status'].count().value_counts()\n",
    "    .reset_index()\n",
    "    .rename(columns={\n",
    "        'index': 'N diagnoses',\n",
    "        'diagnostic_status': 'N participants'\n",
    "    })\n",
    "    .to_string(index=False)\n",
    ")\n",
    "\n",
    "print(f'{Y}Type of diagnostic distribution{R}')\n",
    "print(diag_df[confirmed_diag_mask]['diagnostic_type']\n",
    " .dropna().apply(lambda x: x.split(' ')[0])\n",
    " .value_counts(total=True, ascending=False).to_string())\n",
    "\n",
    "print(f'{Y}Etiological diagnostic distribution, among confirmed diagnoses{R}')\n",
    "_mask = diag_df['diagnostic_type'].str.contains('Etiologic').fillna(False)\n",
    "print(diag_df[_mask & confirmed_diag_mask]['diagnostic_type'].value_counts(total=True, ascending=False).to_string())\n",
    "print(f'{Y}Most common disorders, by ORPHA code:{R}')\n",
    "print(diag_df[confirmed_diag_mask]['disease_orpha'].value_counts().head().to_string())\n",
    "\n",
    "diseases_columns = ['disease_orpha', 'disease_omim', 'disease_cid10']\n",
    "total = diag_df[diseases_columns].notna().sum().sum()\n",
    "print(f'{Y}Terminologies{R}')\n",
    "for name, col in zip(['ORPHA', 'OMIM', 'CID10'], diseases_columns):\n",
    "    print(name, '\\t', disease_sum := diag_df[col].notna().sum(), '\\t', f\"({disease_sum / total * 100:.2f}%)\")\n",
    "    \n",
    "print('Most common disorders, excluding newborn screening')\n",
    "_mask = diag_df['diagnostic_moment'] != 'Newborn screening'\n",
    "s = create_disease_count(diag_df[_mask][['disease_orpha', 'disease_omim', 'disease_cid10']])\n",
    "display(s.to_frame())"
   ],
   "metadata": {
    "collapsed": false,
    "ExecuteTime": {
     "end_time": "2023-12-09T21:06:36.630564800Z",
     "start_time": "2023-12-09T21:06:36.112126200Z"
    }
   },
   "id": "e196fd93c5a796f2"
  },
  {
   "cell_type": "markdown",
   "source": [
    "## Treatment features\n"
   ],
   "metadata": {
    "collapsed": false
   },
   "id": "cd89653c920bd2d8"
  },
  {
   "cell_type": "code",
   "execution_count": 5,
   "outputs": [
    {
     "name": "stdout",
     "output_type": "stream",
     "text": [
      "\u001B[1m\u001B[38;5;220mTreatment form preview:\u001B[0m\n"
     ]
    },
    {
     "data": {
      "text/plain": "   record_id  center_id  instance_id treatment_related_to_rare_disease  \\\n0          1          1            1           Related to rare disease   \n1          2          1            1           Related to rare disease   \n2          3          1            1           Related to rare disease   \n3          4          1            1           Related to rare disease   \n4          5          1            1           Related to rare disease   \n\n   diag_instance_id follows_other_specialty  \\\n0              1.00                     Yes   \n1              1.00                      No   \n2              1.00                     Yes   \n3              1.00                     Yes   \n4              1.00                     Yes   \n\n                                     other_specialty  \\\n0                                                NaN   \n1                                                NaN   \n2  nutricao, ginecologia, pneumologia, enfermagem...   \n3                                                NaN   \n4                                cirurgia pediatrica   \n\n                                   medical_specialty  \\\n0                                         nefrologia   \n1                                                NaN   \n2                           neurologia, oftalmologia   \n3  cardiologia, dermatologia, oftalmologia, otorr...   \n4                                     endocrinologia   \n\n                                     all_specialties  \n0                                         nefrologia  \n1                                                NaN  \n2  neurologia, oftalmologia, nutricao, ginecologi...  \n3  cardiologia, dermatologia, oftalmologia, otorr...  \n4                endocrinologia, cirurgia pediatrica  ",
      "text/html": "<div>\n<style scoped>\n    .dataframe tbody tr th:only-of-type {\n        vertical-align: middle;\n    }\n\n    .dataframe tbody tr th {\n        vertical-align: top;\n    }\n\n    .dataframe thead th {\n        text-align: right;\n    }\n</style>\n<table border=\"1\" class=\"dataframe\">\n  <thead>\n    <tr style=\"text-align: right;\">\n      <th></th>\n      <th>record_id</th>\n      <th>center_id</th>\n      <th>instance_id</th>\n      <th>treatment_related_to_rare_disease</th>\n      <th>diag_instance_id</th>\n      <th>follows_other_specialty</th>\n      <th>other_specialty</th>\n      <th>medical_specialty</th>\n      <th>all_specialties</th>\n    </tr>\n  </thead>\n  <tbody>\n    <tr>\n      <th>0</th>\n      <td>1</td>\n      <td>1</td>\n      <td>1</td>\n      <td>Related to rare disease</td>\n      <td>1.00</td>\n      <td>Yes</td>\n      <td>NaN</td>\n      <td>nefrologia</td>\n      <td>nefrologia</td>\n    </tr>\n    <tr>\n      <th>1</th>\n      <td>2</td>\n      <td>1</td>\n      <td>1</td>\n      <td>Related to rare disease</td>\n      <td>1.00</td>\n      <td>No</td>\n      <td>NaN</td>\n      <td>NaN</td>\n      <td>NaN</td>\n    </tr>\n    <tr>\n      <th>2</th>\n      <td>3</td>\n      <td>1</td>\n      <td>1</td>\n      <td>Related to rare disease</td>\n      <td>1.00</td>\n      <td>Yes</td>\n      <td>nutricao, ginecologia, pneumologia, enfermagem...</td>\n      <td>neurologia, oftalmologia</td>\n      <td>neurologia, oftalmologia, nutricao, ginecologi...</td>\n    </tr>\n    <tr>\n      <th>3</th>\n      <td>4</td>\n      <td>1</td>\n      <td>1</td>\n      <td>Related to rare disease</td>\n      <td>1.00</td>\n      <td>Yes</td>\n      <td>NaN</td>\n      <td>cardiologia, dermatologia, oftalmologia, otorr...</td>\n      <td>cardiologia, dermatologia, oftalmologia, otorr...</td>\n    </tr>\n    <tr>\n      <th>4</th>\n      <td>5</td>\n      <td>1</td>\n      <td>1</td>\n      <td>Related to rare disease</td>\n      <td>1.00</td>\n      <td>Yes</td>\n      <td>cirurgia pediatrica</td>\n      <td>endocrinologia</td>\n      <td>endocrinologia, cirurgia pediatrica</td>\n    </tr>\n  </tbody>\n</table>\n</div>"
     },
     "metadata": {},
     "output_type": "display_data"
    },
    {
     "data": {
      "text/plain": "   record_id  center_id  instance_id treatment_start_date  \\\n0          7          1            1                  NaN   \n1          8          1            1                  NaN   \n2          9          1            1                  NaN   \n3         11          1            1           2017-09-01   \n4         18          1            1           2013-07-30   \n\n  treatment_payer_source treatment_type description data_nascimento  \\\n0                    sus   Diet therapy         NaN      2010-02-22   \n1                    sus   Diet therapy         NaN      1997-10-12   \n2                    sus   Diet therapy         NaN      1995-10-20   \n3                    sus   Diet therapy         NaN      2016-08-10   \n4                    sus   Diet therapy         NaN      2013-07-16   \n\n   age_at_treatment_start  \n0                     NaN  \n1                     NaN  \n2                     NaN  \n3                    1.06  \n4                    0.04  ",
      "text/html": "<div>\n<style scoped>\n    .dataframe tbody tr th:only-of-type {\n        vertical-align: middle;\n    }\n\n    .dataframe tbody tr th {\n        vertical-align: top;\n    }\n\n    .dataframe thead th {\n        text-align: right;\n    }\n</style>\n<table border=\"1\" class=\"dataframe\">\n  <thead>\n    <tr style=\"text-align: right;\">\n      <th></th>\n      <th>record_id</th>\n      <th>center_id</th>\n      <th>instance_id</th>\n      <th>treatment_start_date</th>\n      <th>treatment_payer_source</th>\n      <th>treatment_type</th>\n      <th>description</th>\n      <th>data_nascimento</th>\n      <th>age_at_treatment_start</th>\n    </tr>\n  </thead>\n  <tbody>\n    <tr>\n      <th>0</th>\n      <td>7</td>\n      <td>1</td>\n      <td>1</td>\n      <td>NaN</td>\n      <td>sus</td>\n      <td>Diet therapy</td>\n      <td>NaN</td>\n      <td>2010-02-22</td>\n      <td>NaN</td>\n    </tr>\n    <tr>\n      <th>1</th>\n      <td>8</td>\n      <td>1</td>\n      <td>1</td>\n      <td>NaN</td>\n      <td>sus</td>\n      <td>Diet therapy</td>\n      <td>NaN</td>\n      <td>1997-10-12</td>\n      <td>NaN</td>\n    </tr>\n    <tr>\n      <th>2</th>\n      <td>9</td>\n      <td>1</td>\n      <td>1</td>\n      <td>NaN</td>\n      <td>sus</td>\n      <td>Diet therapy</td>\n      <td>NaN</td>\n      <td>1995-10-20</td>\n      <td>NaN</td>\n    </tr>\n    <tr>\n      <th>3</th>\n      <td>11</td>\n      <td>1</td>\n      <td>1</td>\n      <td>2017-09-01</td>\n      <td>sus</td>\n      <td>Diet therapy</td>\n      <td>NaN</td>\n      <td>2016-08-10</td>\n      <td>1.06</td>\n    </tr>\n    <tr>\n      <th>4</th>\n      <td>18</td>\n      <td>1</td>\n      <td>1</td>\n      <td>2013-07-30</td>\n      <td>sus</td>\n      <td>Diet therapy</td>\n      <td>NaN</td>\n      <td>2013-07-16</td>\n      <td>0.04</td>\n    </tr>\n  </tbody>\n</table>\n</div>"
     },
     "metadata": {},
     "output_type": "display_data"
    }
   ],
   "source": [
    "print(f'{Y}Treatment form preview:{R}')\n",
    "display(trat_df.head())\n",
    "display(trat_type_df.head())"
   ],
   "metadata": {
    "collapsed": false,
    "ExecuteTime": {
     "end_time": "2023-12-09T21:06:36.729411300Z",
     "start_time": "2023-12-09T21:06:36.408533800Z"
    }
   },
   "id": "faa0a752e61c191f"
  },
  {
   "cell_type": "markdown",
   "source": [
    "## Hospitalization and deaths ✔"
   ],
   "metadata": {
    "collapsed": false
   },
   "id": "2b2950f89c3c9c38"
  },
  {
   "cell_type": "code",
   "execution_count": 6,
   "outputs": [
    {
     "name": "stdout",
     "output_type": "stream",
     "text": [
      "\u001B[1m\u001B[38;5;220mFollow-up form preview:\u001B[0m\n"
     ]
    },
    {
     "data": {
      "text/plain": "   record_id  center_id  number_of_hospitalizations hospitalization_date  \\\n0          1          1                         NaN                  NaN   \n1          2          1                         NaN                  NaN   \n2          3          1                        7.00           2019-10-11   \n3          4          1                        6.00           2016-04-03   \n4          5          1                        1.00           2019-08-01   \n\n  cid10_hospitalization previous_hospitalization death_date autopsy_performed  \\\n0                   NaN                       No        NaN               NaN   \n1                   NaN                       No        NaN               NaN   \n2                 J18.0                      Yes        NaN               NaN   \n3                   NaN                      Yes        NaN               NaN   \n4                 N82.1                      Yes        NaN               NaN   \n\n  cid10_death death  \n0         NaN    No  \n1         NaN    No  \n2         NaN    No  \n3         NaN    No  \n4         NaN    No  ",
      "text/html": "<div>\n<style scoped>\n    .dataframe tbody tr th:only-of-type {\n        vertical-align: middle;\n    }\n\n    .dataframe tbody tr th {\n        vertical-align: top;\n    }\n\n    .dataframe thead th {\n        text-align: right;\n    }\n</style>\n<table border=\"1\" class=\"dataframe\">\n  <thead>\n    <tr style=\"text-align: right;\">\n      <th></th>\n      <th>record_id</th>\n      <th>center_id</th>\n      <th>number_of_hospitalizations</th>\n      <th>hospitalization_date</th>\n      <th>cid10_hospitalization</th>\n      <th>previous_hospitalization</th>\n      <th>death_date</th>\n      <th>autopsy_performed</th>\n      <th>cid10_death</th>\n      <th>death</th>\n    </tr>\n  </thead>\n  <tbody>\n    <tr>\n      <th>0</th>\n      <td>1</td>\n      <td>1</td>\n      <td>NaN</td>\n      <td>NaN</td>\n      <td>NaN</td>\n      <td>No</td>\n      <td>NaN</td>\n      <td>NaN</td>\n      <td>NaN</td>\n      <td>No</td>\n    </tr>\n    <tr>\n      <th>1</th>\n      <td>2</td>\n      <td>1</td>\n      <td>NaN</td>\n      <td>NaN</td>\n      <td>NaN</td>\n      <td>No</td>\n      <td>NaN</td>\n      <td>NaN</td>\n      <td>NaN</td>\n      <td>No</td>\n    </tr>\n    <tr>\n      <th>2</th>\n      <td>3</td>\n      <td>1</td>\n      <td>7.00</td>\n      <td>2019-10-11</td>\n      <td>J18.0</td>\n      <td>Yes</td>\n      <td>NaN</td>\n      <td>NaN</td>\n      <td>NaN</td>\n      <td>No</td>\n    </tr>\n    <tr>\n      <th>3</th>\n      <td>4</td>\n      <td>1</td>\n      <td>6.00</td>\n      <td>2016-04-03</td>\n      <td>NaN</td>\n      <td>Yes</td>\n      <td>NaN</td>\n      <td>NaN</td>\n      <td>NaN</td>\n      <td>No</td>\n    </tr>\n    <tr>\n      <th>4</th>\n      <td>5</td>\n      <td>1</td>\n      <td>1.00</td>\n      <td>2019-08-01</td>\n      <td>N82.1</td>\n      <td>Yes</td>\n      <td>NaN</td>\n      <td>NaN</td>\n      <td>NaN</td>\n      <td>No</td>\n    </tr>\n  </tbody>\n</table>\n</div>"
     },
     "metadata": {},
     "output_type": "display_data"
    },
    {
     "name": "stdout",
     "output_type": "stream",
     "text": [
      "\u001B[1m\u001B[38;5;220mNumber of deaths:\u001B[0m 172 (1.40%)\n",
      "\u001B[1m\u001B[38;5;220mNumber of hospitalizations:\u001B[0m 4885 (39.82%)\n",
      "\u001B[1m\u001B[38;5;220mNumber of autopsies:\u001B[0m 18 (14.17%)\n"
     ]
    }
   ],
   "source": [
    "print(f'{Y}Follow-up form preview:{R}')\n",
    "display(followup_df.head())\n",
    "\n",
    "death_count = followup_df['death'].map({'Yes': True, 'No': False}).sum()\n",
    "hospitalization_count = followup_df['previous_hospitalization'].map({'Yes': True, 'No': False}).sum()\n",
    "autopsy_count = followup_df['autopsy_performed'].map({'Yes': True, 'No': False}).sum()\n",
    "print(f'{Y}Number of deaths:{R}', death_count, \n",
    "      f\"({death_count / followup_df['record_id'].nunique() * 100:.2f}%)\")\n",
    "\n",
    "print(f'{Y}Number of hospitalizations:{R}', hospitalization_count, \n",
    "      f\"({hospitalization_count / followup_df['record_id'].nunique() * 100:.2f}%)\")\n",
    "\n",
    "print(f'{Y}Number of autopsies:{R}', autopsy_count,\n",
    "        f\"({autopsy_count / followup_df['autopsy_performed'].dropna().size * 100:.2f}%)\")"
   ],
   "metadata": {
    "collapsed": false,
    "ExecuteTime": {
     "end_time": "2023-12-09T21:06:36.796363300Z",
     "start_time": "2023-12-09T21:06:36.456296600Z"
    }
   },
   "id": "291b22104125db62"
  },
  {
   "cell_type": "markdown",
   "source": [
    "--- \n",
    "## Categorical features"
   ],
   "metadata": {
    "collapsed": false
   },
   "id": "a0575fe3b4c971fd"
  },
  {
   "cell_type": "code",
   "execution_count": 7,
   "outputs": [
    {
     "data": {
      "text/plain": "                                                                                      n  \\\nfeature                           value                                                   \nColor or race                     Brown                                            5013   \n                                  White                                            4847   \n                                  Black                                             606   \n                                  Yellow                                             68   \n                                  Indigenous                                         30   \nSex                               Female                                           6198   \n                                  Male                                             6053   \n                                  Undetermined                                       13   \nBirth region                      Southeast                                        3731   \n                                  Northeast                                        3713   \n                                  South                                            1657   \n                                  North                                             666   \n                                  Born in other countries                            12   \nResidence region                  Southeast                                        3960   \n                                  Northeast                                        3935   \n                                  South                                            2080   \n                                  North                                             637   \nDiagnostic status                 Confirmed diagnosis                              7803   \n                                  Suspected diagnosis                              2299   \n                                  Undiagnosed                                      2159   \nDiagnostic payer source           SUS                                              3791   \n                                  Rede de apoio ao diagnóstico                      186   \n                                  Pesquisa clínica                                  173   \n                                  Programa diagnóstico da industria farmaceutica    125   \n                                  Financiamento próprio                             117   \n                                  Saude suplementar                                  97   \n                                  Judicial                                           16   \nDiagnostic moment                 Postnatal                                        8735   \n                                  Newborn screening                                 932   \n                                  Prenatal                                          117   \nFamily recurrence                 No                                               7730   \n                                  Yes                                              2682   \nConsanguinity                     No                                               8803   \n                                  Yes                                               792   \nDiagnostic type                   Clinical                                         4657   \n                                  Biochemical (Etiological)                        2159   \n                                  Molecular (Etiological)                          1554   \n                                  Cytogenetic (Etiological)                         675   \n                                  Anatomopathological (Etiological)                 653   \n                                  Etiological                                        97   \n                                  Molecular (Clinical)                                1   \nTreatment related to rare disease Related to rare disease                          6430   \n                                  Not related to rare disease                      5440   \nFollows other specialty           Yes                                              9777   \n                                  No                                               1856   \nTreatment type                    Drug therapy                                     6051   \n                                  Other                                            1350   \n                                  Rehabilitation                                   1238   \n                                  Diet therapy                                      922   \nTreatment payer source            sus                                              6518   \n                                  financiamento_proprio                             717   \n                                  saude_suplem                                      149   \n                                  judicial                                          122   \n                                  pesq_clinica                                        8   \nPrevious hospitalization          No                                               7384   \n                                  Yes                                              4885   \nDeath                             No                                              12097   \n                                  Yes                                               172   \nAutopsy performed                 No                                                109   \n                                  Yes                                                18   \n\n                                                                                     %  \nfeature                           value                                                 \nColor or race                     Brown                                          47.45  \n                                  White                                          45.88  \n                                  Black                                           5.74  \n                                  Yellow                                          0.64  \n                                  Indigenous                                      0.28  \nSex                               Female                                         50.54  \n                                  Male                                           49.36  \n                                  Undetermined                                    0.11  \nBirth region                      Southeast                                      38.15  \n                                  Northeast                                      37.97  \n                                  South                                          16.94  \n                                  North                                           6.81  \n                                  Born in other countries                         0.12  \nResidence region                  Southeast                                      37.32  \n                                  Northeast                                      37.08  \n                                  South                                          19.60  \n                                  North                                           6.00  \nDiagnostic status                 Confirmed diagnosis                            63.64  \n                                  Suspected diagnosis                            18.75  \n                                  Undiagnosed                                    17.61  \nDiagnostic payer source           SUS                                            84.15  \n                                  Rede de apoio ao diagnóstico                    4.13  \n                                  Pesquisa clínica                                3.84  \n                                  Programa diagnóstico da industria farmaceutica  2.77  \n                                  Financiamento próprio                           2.60  \n                                  Saude suplementar                               2.15  \n                                  Judicial                                        0.36  \nDiagnostic moment                 Postnatal                                      89.28  \n                                  Newborn screening                               9.53  \n                                  Prenatal                                        1.20  \nFamily recurrence                 No                                             74.24  \n                                  Yes                                            25.76  \nConsanguinity                     No                                             91.75  \n                                  Yes                                             8.25  \nDiagnostic type                   Clinical                                       47.54  \n                                  Biochemical (Etiological)                      22.04  \n                                  Molecular (Etiological)                        15.86  \n                                  Cytogenetic (Etiological)                       6.89  \n                                  Anatomopathological (Etiological)               6.67  \n                                  Etiological                                     0.99  \n                                  Molecular (Clinical)                            0.01  \nTreatment related to rare disease Related to rare disease                        54.17  \n                                  Not related to rare disease                    45.83  \nFollows other specialty           Yes                                            84.05  \n                                  No                                             15.95  \nTreatment type                    Drug therapy                                   63.29  \n                                  Other                                          14.12  \n                                  Rehabilitation                                 12.95  \n                                  Diet therapy                                    9.64  \nTreatment payer source            sus                                            86.74  \n                                  financiamento_proprio                           9.54  \n                                  saude_suplem                                    1.98  \n                                  judicial                                        1.62  \n                                  pesq_clinica                                    0.11  \nPrevious hospitalization          No                                             60.18  \n                                  Yes                                            39.82  \nDeath                             No                                             98.60  \n                                  Yes                                             1.40  \nAutopsy performed                 No                                             85.83  \n                                  Yes                                            14.17  ",
      "text/html": "<div>\n<style scoped>\n    .dataframe tbody tr th:only-of-type {\n        vertical-align: middle;\n    }\n\n    .dataframe tbody tr th {\n        vertical-align: top;\n    }\n\n    .dataframe thead th {\n        text-align: right;\n    }\n</style>\n<table border=\"1\" class=\"dataframe\">\n  <thead>\n    <tr style=\"text-align: right;\">\n      <th></th>\n      <th></th>\n      <th>n</th>\n      <th>%</th>\n    </tr>\n    <tr>\n      <th>feature</th>\n      <th>value</th>\n      <th></th>\n      <th></th>\n    </tr>\n  </thead>\n  <tbody>\n    <tr>\n      <th rowspan=\"5\" valign=\"top\">Color or race</th>\n      <th>Brown</th>\n      <td>5013</td>\n      <td>47.45</td>\n    </tr>\n    <tr>\n      <th>White</th>\n      <td>4847</td>\n      <td>45.88</td>\n    </tr>\n    <tr>\n      <th>Black</th>\n      <td>606</td>\n      <td>5.74</td>\n    </tr>\n    <tr>\n      <th>Yellow</th>\n      <td>68</td>\n      <td>0.64</td>\n    </tr>\n    <tr>\n      <th>Indigenous</th>\n      <td>30</td>\n      <td>0.28</td>\n    </tr>\n    <tr>\n      <th rowspan=\"3\" valign=\"top\">Sex</th>\n      <th>Female</th>\n      <td>6198</td>\n      <td>50.54</td>\n    </tr>\n    <tr>\n      <th>Male</th>\n      <td>6053</td>\n      <td>49.36</td>\n    </tr>\n    <tr>\n      <th>Undetermined</th>\n      <td>13</td>\n      <td>0.11</td>\n    </tr>\n    <tr>\n      <th rowspan=\"5\" valign=\"top\">Birth region</th>\n      <th>Southeast</th>\n      <td>3731</td>\n      <td>38.15</td>\n    </tr>\n    <tr>\n      <th>Northeast</th>\n      <td>3713</td>\n      <td>37.97</td>\n    </tr>\n    <tr>\n      <th>South</th>\n      <td>1657</td>\n      <td>16.94</td>\n    </tr>\n    <tr>\n      <th>North</th>\n      <td>666</td>\n      <td>6.81</td>\n    </tr>\n    <tr>\n      <th>Born in other countries</th>\n      <td>12</td>\n      <td>0.12</td>\n    </tr>\n    <tr>\n      <th rowspan=\"4\" valign=\"top\">Residence region</th>\n      <th>Southeast</th>\n      <td>3960</td>\n      <td>37.32</td>\n    </tr>\n    <tr>\n      <th>Northeast</th>\n      <td>3935</td>\n      <td>37.08</td>\n    </tr>\n    <tr>\n      <th>South</th>\n      <td>2080</td>\n      <td>19.60</td>\n    </tr>\n    <tr>\n      <th>North</th>\n      <td>637</td>\n      <td>6.00</td>\n    </tr>\n    <tr>\n      <th rowspan=\"3\" valign=\"top\">Diagnostic status</th>\n      <th>Confirmed diagnosis</th>\n      <td>7803</td>\n      <td>63.64</td>\n    </tr>\n    <tr>\n      <th>Suspected diagnosis</th>\n      <td>2299</td>\n      <td>18.75</td>\n    </tr>\n    <tr>\n      <th>Undiagnosed</th>\n      <td>2159</td>\n      <td>17.61</td>\n    </tr>\n    <tr>\n      <th rowspan=\"7\" valign=\"top\">Diagnostic payer source</th>\n      <th>SUS</th>\n      <td>3791</td>\n      <td>84.15</td>\n    </tr>\n    <tr>\n      <th>Rede de apoio ao diagnóstico</th>\n      <td>186</td>\n      <td>4.13</td>\n    </tr>\n    <tr>\n      <th>Pesquisa clínica</th>\n      <td>173</td>\n      <td>3.84</td>\n    </tr>\n    <tr>\n      <th>Programa diagnóstico da industria farmaceutica</th>\n      <td>125</td>\n      <td>2.77</td>\n    </tr>\n    <tr>\n      <th>Financiamento próprio</th>\n      <td>117</td>\n      <td>2.60</td>\n    </tr>\n    <tr>\n      <th>Saude suplementar</th>\n      <td>97</td>\n      <td>2.15</td>\n    </tr>\n    <tr>\n      <th>Judicial</th>\n      <td>16</td>\n      <td>0.36</td>\n    </tr>\n    <tr>\n      <th rowspan=\"3\" valign=\"top\">Diagnostic moment</th>\n      <th>Postnatal</th>\n      <td>8735</td>\n      <td>89.28</td>\n    </tr>\n    <tr>\n      <th>Newborn screening</th>\n      <td>932</td>\n      <td>9.53</td>\n    </tr>\n    <tr>\n      <th>Prenatal</th>\n      <td>117</td>\n      <td>1.20</td>\n    </tr>\n    <tr>\n      <th rowspan=\"2\" valign=\"top\">Family recurrence</th>\n      <th>No</th>\n      <td>7730</td>\n      <td>74.24</td>\n    </tr>\n    <tr>\n      <th>Yes</th>\n      <td>2682</td>\n      <td>25.76</td>\n    </tr>\n    <tr>\n      <th rowspan=\"2\" valign=\"top\">Consanguinity</th>\n      <th>No</th>\n      <td>8803</td>\n      <td>91.75</td>\n    </tr>\n    <tr>\n      <th>Yes</th>\n      <td>792</td>\n      <td>8.25</td>\n    </tr>\n    <tr>\n      <th rowspan=\"7\" valign=\"top\">Diagnostic type</th>\n      <th>Clinical</th>\n      <td>4657</td>\n      <td>47.54</td>\n    </tr>\n    <tr>\n      <th>Biochemical (Etiological)</th>\n      <td>2159</td>\n      <td>22.04</td>\n    </tr>\n    <tr>\n      <th>Molecular (Etiological)</th>\n      <td>1554</td>\n      <td>15.86</td>\n    </tr>\n    <tr>\n      <th>Cytogenetic (Etiological)</th>\n      <td>675</td>\n      <td>6.89</td>\n    </tr>\n    <tr>\n      <th>Anatomopathological (Etiological)</th>\n      <td>653</td>\n      <td>6.67</td>\n    </tr>\n    <tr>\n      <th>Etiological</th>\n      <td>97</td>\n      <td>0.99</td>\n    </tr>\n    <tr>\n      <th>Molecular (Clinical)</th>\n      <td>1</td>\n      <td>0.01</td>\n    </tr>\n    <tr>\n      <th rowspan=\"2\" valign=\"top\">Treatment related to rare disease</th>\n      <th>Related to rare disease</th>\n      <td>6430</td>\n      <td>54.17</td>\n    </tr>\n    <tr>\n      <th>Not related to rare disease</th>\n      <td>5440</td>\n      <td>45.83</td>\n    </tr>\n    <tr>\n      <th rowspan=\"2\" valign=\"top\">Follows other specialty</th>\n      <th>Yes</th>\n      <td>9777</td>\n      <td>84.05</td>\n    </tr>\n    <tr>\n      <th>No</th>\n      <td>1856</td>\n      <td>15.95</td>\n    </tr>\n    <tr>\n      <th rowspan=\"4\" valign=\"top\">Treatment type</th>\n      <th>Drug therapy</th>\n      <td>6051</td>\n      <td>63.29</td>\n    </tr>\n    <tr>\n      <th>Other</th>\n      <td>1350</td>\n      <td>14.12</td>\n    </tr>\n    <tr>\n      <th>Rehabilitation</th>\n      <td>1238</td>\n      <td>12.95</td>\n    </tr>\n    <tr>\n      <th>Diet therapy</th>\n      <td>922</td>\n      <td>9.64</td>\n    </tr>\n    <tr>\n      <th rowspan=\"5\" valign=\"top\">Treatment payer source</th>\n      <th>sus</th>\n      <td>6518</td>\n      <td>86.74</td>\n    </tr>\n    <tr>\n      <th>financiamento_proprio</th>\n      <td>717</td>\n      <td>9.54</td>\n    </tr>\n    <tr>\n      <th>saude_suplem</th>\n      <td>149</td>\n      <td>1.98</td>\n    </tr>\n    <tr>\n      <th>judicial</th>\n      <td>122</td>\n      <td>1.62</td>\n    </tr>\n    <tr>\n      <th>pesq_clinica</th>\n      <td>8</td>\n      <td>0.11</td>\n    </tr>\n    <tr>\n      <th rowspan=\"2\" valign=\"top\">Previous hospitalization</th>\n      <th>No</th>\n      <td>7384</td>\n      <td>60.18</td>\n    </tr>\n    <tr>\n      <th>Yes</th>\n      <td>4885</td>\n      <td>39.82</td>\n    </tr>\n    <tr>\n      <th rowspan=\"2\" valign=\"top\">Death</th>\n      <th>No</th>\n      <td>12097</td>\n      <td>98.60</td>\n    </tr>\n    <tr>\n      <th>Yes</th>\n      <td>172</td>\n      <td>1.40</td>\n    </tr>\n    <tr>\n      <th rowspan=\"2\" valign=\"top\">Autopsy performed</th>\n      <th>No</th>\n      <td>109</td>\n      <td>85.83</td>\n    </tr>\n    <tr>\n      <th>Yes</th>\n      <td>18</td>\n      <td>14.17</td>\n    </tr>\n  </tbody>\n</table>\n</div>"
     },
     "execution_count": 7,
     "metadata": {},
     "output_type": "execute_result"
    }
   ],
   "source": [
    "# Select categorical features\n",
    "id_categorical_columns = ['color_or_race', 'sex', 'birth_region', 'residence_region']\n",
    "diag_categorical_columns = ['diagnostic_status', 'diagnostic_payer_source', \n",
    "                            'diagnostic_moment', 'family_recurrence', 'consanguinity', \n",
    "                            'diagnostic_type']\n",
    "trat_categorical_columns = ['treatment_related_to_rare_disease', 'follows_other_specialty']\n",
    "trat_type_categorical_columns = ['treatment_type', 'treatment_payer_source']\n",
    "followup_categorical_columns = ['previous_hospitalization', 'death', 'autopsy_performed']\n",
    "\n",
    "pd.concat([\n",
    "    create_descriptive_table(id_df, id_categorical_columns),\n",
    "    create_descriptive_table(diag_df, diag_categorical_columns),\n",
    "    create_descriptive_table(trat_df, trat_categorical_columns),\n",
    "    create_descriptive_table(trat_type_df, trat_type_categorical_columns),\n",
    "    create_descriptive_table(followup_df, followup_categorical_columns),\n",
    "])"
   ],
   "metadata": {
    "collapsed": false,
    "ExecuteTime": {
     "end_time": "2023-12-09T21:06:36.927875Z",
     "start_time": "2023-12-09T21:06:36.503090500Z"
    }
   },
   "id": "3b8f27063ee7f645"
  },
  {
   "cell_type": "markdown",
   "source": [
    "--- \n",
    "## Numerical features"
   ],
   "metadata": {
    "collapsed": false
   },
   "id": "3bb87e9da36e65a8"
  },
  {
   "cell_type": "code",
   "execution_count": 8,
   "outputs": [],
   "source": [
    "# Select numeric features\n",
    "id_numeric_columns = ['age', 'age_at_first_evaluation_at_center', 'age_at_first_evaluation_at_specialty', \n",
    "                      'length_of_follow_up_at_center', 'length_of_follow_up_at_specialty']\n",
    "diag_numeric_columns = ['diagnostic_odyssey', 'age_at_symptoms_onset', 'maternal_age_at_birth', 'paternal_age_at_birth']\n",
    "type_trat_numeric_columns_map = {\n",
    "    'Diet therapy': 'diet_age_treatment_start',\n",
    "    'Drug therapy': 'drug_age_treatment_start',\n",
    "    'Other': 'other_age_treatment_start',\n",
    "    'Rehabilitation': 'rehab_age_treatment_start',\n",
    "}"
   ],
   "metadata": {
    "collapsed": false,
    "ExecuteTime": {
     "end_time": "2023-12-09T21:06:36.992236500Z",
     "start_time": "2023-12-09T21:06:36.641940600Z"
    }
   },
   "id": "1c980d4d8096555f"
  },
  {
   "cell_type": "code",
   "execution_count": 9,
   "outputs": [
    {
     "name": "stdout",
     "output_type": "stream",
     "text": [
      "\u001B[1m\u001B[38;5;220mAll diagnostic status:\u001B[0m\n"
     ]
    },
    {
     "data": {
      "text/plain": "                                        count  mean   std   min   25%   50%  \\\nage                                  12222.00 19.60 19.33  0.00  4.89 12.74   \nage_at_first_evaluation_at_center    11595.00 14.59 18.72  0.00  0.90  6.26   \nage_at_first_evaluation_at_specialty 11328.00 15.28 18.85  0.00  1.39  7.29   \nlength_of_follow_up_at_center        11619.00  5.33  6.33  0.00  0.58  2.76   \nlength_of_follow_up_at_specialty     11252.00  4.07  5.68  0.00  0.15  1.73   \ndiagnostic_odyssey                    5030.00 17.75 19.81  0.00  1.99  8.99   \nage_at_symptoms_onset                 9272.00  9.19 16.63  0.00  0.00  0.82   \nmaternal_age_at_birth                 4812.00 27.71  7.06 12.00 22.00 27.00   \npaternal_age_at_birth                 3975.00 31.72  8.39 12.00 25.00 31.00   \nnumber_of_hospitalizations            4303.00  4.15 14.20  0.00  1.00  2.00   \ndiet_age_treatment_start               815.00  3.24  8.33  0.00  0.08  0.20   \ndrug_age_treatment_start              3422.00 22.12 21.80  0.00  2.63 13.63   \nother_age_treatment_start             1014.00 24.29 20.93  0.00  3.74 20.99   \nrehab_age_treatment_start              744.00 15.17 19.39  0.00  1.46  6.59   \n\n                                       75%    max  \nage                                  28.77  95.76  \nage_at_first_evaluation_at_center    20.81  95.68  \nage_at_first_evaluation_at_specialty 21.47  95.07  \nlength_of_follow_up_at_center         7.93  47.93  \nlength_of_follow_up_at_specialty      5.36  47.93  \ndiagnostic_odyssey                   30.02  88.73  \nage_at_symptoms_onset                 8.99  87.94  \nmaternal_age_at_birth                33.00  63.00  \npaternal_age_at_birth                37.00  79.00  \nnumber_of_hospitalizations            3.00 379.00  \ndiet_age_treatment_start              2.00  62.05  \ndrug_age_treatment_start             39.00  95.07  \nother_age_treatment_start            41.10  95.68  \nrehab_age_treatment_start            20.60  80.39  ",
      "text/html": "<div>\n<style scoped>\n    .dataframe tbody tr th:only-of-type {\n        vertical-align: middle;\n    }\n\n    .dataframe tbody tr th {\n        vertical-align: top;\n    }\n\n    .dataframe thead th {\n        text-align: right;\n    }\n</style>\n<table border=\"1\" class=\"dataframe\">\n  <thead>\n    <tr style=\"text-align: right;\">\n      <th></th>\n      <th>count</th>\n      <th>mean</th>\n      <th>std</th>\n      <th>min</th>\n      <th>25%</th>\n      <th>50%</th>\n      <th>75%</th>\n      <th>max</th>\n    </tr>\n  </thead>\n  <tbody>\n    <tr>\n      <th>age</th>\n      <td>12222.00</td>\n      <td>19.60</td>\n      <td>19.33</td>\n      <td>0.00</td>\n      <td>4.89</td>\n      <td>12.74</td>\n      <td>28.77</td>\n      <td>95.76</td>\n    </tr>\n    <tr>\n      <th>age_at_first_evaluation_at_center</th>\n      <td>11595.00</td>\n      <td>14.59</td>\n      <td>18.72</td>\n      <td>0.00</td>\n      <td>0.90</td>\n      <td>6.26</td>\n      <td>20.81</td>\n      <td>95.68</td>\n    </tr>\n    <tr>\n      <th>age_at_first_evaluation_at_specialty</th>\n      <td>11328.00</td>\n      <td>15.28</td>\n      <td>18.85</td>\n      <td>0.00</td>\n      <td>1.39</td>\n      <td>7.29</td>\n      <td>21.47</td>\n      <td>95.07</td>\n    </tr>\n    <tr>\n      <th>length_of_follow_up_at_center</th>\n      <td>11619.00</td>\n      <td>5.33</td>\n      <td>6.33</td>\n      <td>0.00</td>\n      <td>0.58</td>\n      <td>2.76</td>\n      <td>7.93</td>\n      <td>47.93</td>\n    </tr>\n    <tr>\n      <th>length_of_follow_up_at_specialty</th>\n      <td>11252.00</td>\n      <td>4.07</td>\n      <td>5.68</td>\n      <td>0.00</td>\n      <td>0.15</td>\n      <td>1.73</td>\n      <td>5.36</td>\n      <td>47.93</td>\n    </tr>\n    <tr>\n      <th>diagnostic_odyssey</th>\n      <td>5030.00</td>\n      <td>17.75</td>\n      <td>19.81</td>\n      <td>0.00</td>\n      <td>1.99</td>\n      <td>8.99</td>\n      <td>30.02</td>\n      <td>88.73</td>\n    </tr>\n    <tr>\n      <th>age_at_symptoms_onset</th>\n      <td>9272.00</td>\n      <td>9.19</td>\n      <td>16.63</td>\n      <td>0.00</td>\n      <td>0.00</td>\n      <td>0.82</td>\n      <td>8.99</td>\n      <td>87.94</td>\n    </tr>\n    <tr>\n      <th>maternal_age_at_birth</th>\n      <td>4812.00</td>\n      <td>27.71</td>\n      <td>7.06</td>\n      <td>12.00</td>\n      <td>22.00</td>\n      <td>27.00</td>\n      <td>33.00</td>\n      <td>63.00</td>\n    </tr>\n    <tr>\n      <th>paternal_age_at_birth</th>\n      <td>3975.00</td>\n      <td>31.72</td>\n      <td>8.39</td>\n      <td>12.00</td>\n      <td>25.00</td>\n      <td>31.00</td>\n      <td>37.00</td>\n      <td>79.00</td>\n    </tr>\n    <tr>\n      <th>number_of_hospitalizations</th>\n      <td>4303.00</td>\n      <td>4.15</td>\n      <td>14.20</td>\n      <td>0.00</td>\n      <td>1.00</td>\n      <td>2.00</td>\n      <td>3.00</td>\n      <td>379.00</td>\n    </tr>\n    <tr>\n      <th>diet_age_treatment_start</th>\n      <td>815.00</td>\n      <td>3.24</td>\n      <td>8.33</td>\n      <td>0.00</td>\n      <td>0.08</td>\n      <td>0.20</td>\n      <td>2.00</td>\n      <td>62.05</td>\n    </tr>\n    <tr>\n      <th>drug_age_treatment_start</th>\n      <td>3422.00</td>\n      <td>22.12</td>\n      <td>21.80</td>\n      <td>0.00</td>\n      <td>2.63</td>\n      <td>13.63</td>\n      <td>39.00</td>\n      <td>95.07</td>\n    </tr>\n    <tr>\n      <th>other_age_treatment_start</th>\n      <td>1014.00</td>\n      <td>24.29</td>\n      <td>20.93</td>\n      <td>0.00</td>\n      <td>3.74</td>\n      <td>20.99</td>\n      <td>41.10</td>\n      <td>95.68</td>\n    </tr>\n    <tr>\n      <th>rehab_age_treatment_start</th>\n      <td>744.00</td>\n      <td>15.17</td>\n      <td>19.39</td>\n      <td>0.00</td>\n      <td>1.46</td>\n      <td>6.59</td>\n      <td>20.60</td>\n      <td>80.39</td>\n    </tr>\n  </tbody>\n</table>\n</div>"
     },
     "execution_count": 9,
     "metadata": {},
     "output_type": "execute_result"
    }
   ],
   "source": [
    "print(f'{Y}All diagnostic status:{R}')\n",
    "\n",
    "pd.concat([\n",
    "    id_df[id_numeric_columns].describe(),\n",
    "    diag_df[diag_numeric_columns].describe(),\n",
    "    followup_df.dropna(subset='number_of_hospitalizations').groupby('record_id')['number_of_hospitalizations'].sum().describe(),\n",
    "    trat_type_df.groupby('treatment_type')['age_at_treatment_start'].describe().T.rename(columns=type_trat_numeric_columns_map)\n",
    "], axis=1).T"
   ],
   "metadata": {
    "collapsed": false,
    "ExecuteTime": {
     "end_time": "2023-12-09T21:06:37.291697300Z",
     "start_time": "2023-12-09T21:06:36.658570600Z"
    }
   },
   "id": "591321322c6c3b98"
  },
  {
   "cell_type": "code",
   "execution_count": 10,
   "outputs": [
    {
     "name": "stdout",
     "output_type": "stream",
     "text": [
      "\u001B[1m\u001B[38;5;220mOnly confirmed diagnoses:\u001B[0m\n"
     ]
    },
    {
     "data": {
      "text/plain": "                                       count  mean   std   min   25%   50%  \\\nage                                  7725.00 22.16 20.08  0.00  6.07 15.16   \nage_at_first_evaluation_at_center    7388.00 16.19 19.64  0.00  0.75  7.33   \nage_at_first_evaluation_at_specialty 7059.00 16.72 19.76  0.00  1.11  8.15   \nlength_of_follow_up_at_center        7388.00  6.19  6.70  0.00  1.00  3.76   \nlength_of_follow_up_at_specialty     7002.00  5.10  6.23  0.00  0.61  2.76   \ndiagnostic_odyssey                   4129.00 18.44 20.10  0.00  2.00  9.56   \nage_at_symptoms_onset                5945.00 10.99 17.89  0.00  0.00  1.00   \nmaternal_age_at_birth                2595.00 27.70  7.11 12.00 22.00 27.00   \npaternal_age_at_birth                2144.00 31.72  8.37 12.00 25.00 31.00   \nnumber_of_hospitalizations           7734.00  1.87 10.67  0.00  0.00  0.00   \ndiet_age_treatment_start              779.00  3.07  8.18  0.00  0.07  0.18   \ndrug_age_treatment_start             2873.00 23.00 22.05  0.00  2.58 15.46   \nother_age_treatment_start             792.00 26.01 20.66  0.00  5.61 23.98   \nrehab_age_treatment_start             480.00 17.72 20.69  0.00  1.88  8.24   \n\n                                       75%    max  \nage                                  34.44  88.97  \nage_at_first_evaluation_at_center    26.85  86.85  \nage_at_first_evaluation_at_specialty 27.66  88.97  \nlength_of_follow_up_at_center         9.47  47.93  \nlength_of_follow_up_at_specialty      7.30  47.93  \ndiagnostic_odyssey                   31.96  88.73  \nage_at_symptoms_onset                13.99  87.94  \nmaternal_age_at_birth                33.00  63.00  \npaternal_age_at_birth                37.00  68.00  \nnumber_of_hospitalizations            1.00 379.00  \ndiet_age_treatment_start              1.56  62.05  \ndrug_age_treatment_start             40.74  81.35  \nother_age_treatment_start            41.87  86.87  \nrehab_age_treatment_start            30.91  80.39  ",
      "text/html": "<div>\n<style scoped>\n    .dataframe tbody tr th:only-of-type {\n        vertical-align: middle;\n    }\n\n    .dataframe tbody tr th {\n        vertical-align: top;\n    }\n\n    .dataframe thead th {\n        text-align: right;\n    }\n</style>\n<table border=\"1\" class=\"dataframe\">\n  <thead>\n    <tr style=\"text-align: right;\">\n      <th></th>\n      <th>count</th>\n      <th>mean</th>\n      <th>std</th>\n      <th>min</th>\n      <th>25%</th>\n      <th>50%</th>\n      <th>75%</th>\n      <th>max</th>\n    </tr>\n  </thead>\n  <tbody>\n    <tr>\n      <th>age</th>\n      <td>7725.00</td>\n      <td>22.16</td>\n      <td>20.08</td>\n      <td>0.00</td>\n      <td>6.07</td>\n      <td>15.16</td>\n      <td>34.44</td>\n      <td>88.97</td>\n    </tr>\n    <tr>\n      <th>age_at_first_evaluation_at_center</th>\n      <td>7388.00</td>\n      <td>16.19</td>\n      <td>19.64</td>\n      <td>0.00</td>\n      <td>0.75</td>\n      <td>7.33</td>\n      <td>26.85</td>\n      <td>86.85</td>\n    </tr>\n    <tr>\n      <th>age_at_first_evaluation_at_specialty</th>\n      <td>7059.00</td>\n      <td>16.72</td>\n      <td>19.76</td>\n      <td>0.00</td>\n      <td>1.11</td>\n      <td>8.15</td>\n      <td>27.66</td>\n      <td>88.97</td>\n    </tr>\n    <tr>\n      <th>length_of_follow_up_at_center</th>\n      <td>7388.00</td>\n      <td>6.19</td>\n      <td>6.70</td>\n      <td>0.00</td>\n      <td>1.00</td>\n      <td>3.76</td>\n      <td>9.47</td>\n      <td>47.93</td>\n    </tr>\n    <tr>\n      <th>length_of_follow_up_at_specialty</th>\n      <td>7002.00</td>\n      <td>5.10</td>\n      <td>6.23</td>\n      <td>0.00</td>\n      <td>0.61</td>\n      <td>2.76</td>\n      <td>7.30</td>\n      <td>47.93</td>\n    </tr>\n    <tr>\n      <th>diagnostic_odyssey</th>\n      <td>4129.00</td>\n      <td>18.44</td>\n      <td>20.10</td>\n      <td>0.00</td>\n      <td>2.00</td>\n      <td>9.56</td>\n      <td>31.96</td>\n      <td>88.73</td>\n    </tr>\n    <tr>\n      <th>age_at_symptoms_onset</th>\n      <td>5945.00</td>\n      <td>10.99</td>\n      <td>17.89</td>\n      <td>0.00</td>\n      <td>0.00</td>\n      <td>1.00</td>\n      <td>13.99</td>\n      <td>87.94</td>\n    </tr>\n    <tr>\n      <th>maternal_age_at_birth</th>\n      <td>2595.00</td>\n      <td>27.70</td>\n      <td>7.11</td>\n      <td>12.00</td>\n      <td>22.00</td>\n      <td>27.00</td>\n      <td>33.00</td>\n      <td>63.00</td>\n    </tr>\n    <tr>\n      <th>paternal_age_at_birth</th>\n      <td>2144.00</td>\n      <td>31.72</td>\n      <td>8.37</td>\n      <td>12.00</td>\n      <td>25.00</td>\n      <td>31.00</td>\n      <td>37.00</td>\n      <td>68.00</td>\n    </tr>\n    <tr>\n      <th>number_of_hospitalizations</th>\n      <td>7734.00</td>\n      <td>1.87</td>\n      <td>10.67</td>\n      <td>0.00</td>\n      <td>0.00</td>\n      <td>0.00</td>\n      <td>1.00</td>\n      <td>379.00</td>\n    </tr>\n    <tr>\n      <th>diet_age_treatment_start</th>\n      <td>779.00</td>\n      <td>3.07</td>\n      <td>8.18</td>\n      <td>0.00</td>\n      <td>0.07</td>\n      <td>0.18</td>\n      <td>1.56</td>\n      <td>62.05</td>\n    </tr>\n    <tr>\n      <th>drug_age_treatment_start</th>\n      <td>2873.00</td>\n      <td>23.00</td>\n      <td>22.05</td>\n      <td>0.00</td>\n      <td>2.58</td>\n      <td>15.46</td>\n      <td>40.74</td>\n      <td>81.35</td>\n    </tr>\n    <tr>\n      <th>other_age_treatment_start</th>\n      <td>792.00</td>\n      <td>26.01</td>\n      <td>20.66</td>\n      <td>0.00</td>\n      <td>5.61</td>\n      <td>23.98</td>\n      <td>41.87</td>\n      <td>86.87</td>\n    </tr>\n    <tr>\n      <th>rehab_age_treatment_start</th>\n      <td>480.00</td>\n      <td>17.72</td>\n      <td>20.69</td>\n      <td>0.00</td>\n      <td>1.88</td>\n      <td>8.24</td>\n      <td>30.91</td>\n      <td>80.39</td>\n    </tr>\n  </tbody>\n</table>\n</div>"
     },
     "execution_count": 10,
     "metadata": {},
     "output_type": "execute_result"
    }
   ],
   "source": [
    "print(f'{Y}Only confirmed diagnoses:{R}')\n",
    "\n",
    "_record_id_mask = diag_df[confirmed_diag_mask]['record_id'].unique()\n",
    "\n",
    "pd.concat([\n",
    "    id_df[id_df['record_id'].isin(_record_id_mask)][id_numeric_columns].describe(),\n",
    "    diag_df[diag_df['record_id'].isin(_record_id_mask)][diag_numeric_columns].describe(),\n",
    "    followup_df[followup_df['record_id'].isin(_record_id_mask)]\n",
    "        .groupby('record_id')['number_of_hospitalizations'].sum().describe(),\n",
    "    trat_type_df[trat_type_df['record_id'].isin(_record_id_mask)]\n",
    "        .groupby('treatment_type')['age_at_treatment_start'].describe().T.rename(columns=type_trat_numeric_columns_map),\n",
    "], axis=1).T"
   ],
   "metadata": {
    "collapsed": false,
    "ExecuteTime": {
     "end_time": "2023-12-09T21:06:37.815006100Z",
     "start_time": "2023-12-09T21:06:36.751835900Z"
    }
   },
   "id": "e1f43d917f2e842f"
  },
  {
   "cell_type": "markdown",
   "source": [
    "--- \n",
    "# Annex"
   ],
   "metadata": {
    "collapsed": false
   },
   "id": "e4b9b4dd6a11aad1"
  },
  {
   "cell_type": "markdown",
   "source": [
    "## Figure 1.a\n",
    "Histogram of Age and Sex Distribution of Participants (n=12,502) and (b) diagnostic status. (N= 12,279)"
   ],
   "metadata": {
    "collapsed": false
   },
   "id": "ebb90c45a5baffd3"
  },
  {
   "cell_type": "code",
   "execution_count": 10,
   "outputs": [],
   "source": [],
   "metadata": {
    "collapsed": false,
    "ExecuteTime": {
     "end_time": "2023-12-09T21:06:37.874408600Z",
     "start_time": "2023-12-09T21:06:36.971675500Z"
    }
   },
   "id": "32bede21cbaba14c"
  },
  {
   "cell_type": "markdown",
   "source": [
    "## Figure 1.b"
   ],
   "metadata": {
    "collapsed": false
   },
   "id": "2af88b214e595ece"
  },
  {
   "cell_type": "code",
   "execution_count": 10,
   "outputs": [],
   "source": [],
   "metadata": {
    "collapsed": false,
    "ExecuteTime": {
     "end_time": "2023-12-09T21:06:37.992101100Z",
     "start_time": "2023-12-09T21:06:36.985189500Z"
    }
   },
   "id": "fb48309592ff053c"
  },
  {
   "cell_type": "markdown",
   "source": [
    "## Table 1 ✔\n",
    "Sample characterization"
   ],
   "metadata": {
    "collapsed": false
   },
   "id": "c8042228d53ac61"
  },
  {
   "cell_type": "code",
   "execution_count": 11,
   "outputs": [
    {
     "data": {
      "text/plain": "                                             n     %\nfeature          value                              \nColor or race    Brown                    5013 47.45\n                 White                    4847 45.88\n                 Black                     606  5.74\n                 Yellow                     68  0.64\n                 Indigenous                 30  0.28\nSex              Female                   6198 50.54\n                 Male                     6053 49.36\n                 Undetermined               13  0.11\nBirth region     Southeast                3731 38.15\n                 Northeast                3713 37.97\n                 South                    1657 16.94\n                 North                     666  6.81\n                 Born in other countries    12  0.12\nResidence region Southeast                3960 37.32\n                 Northeast                3935 37.08\n                 South                    2080 19.60\n                 North                     637  6.00",
      "text/html": "<div>\n<style scoped>\n    .dataframe tbody tr th:only-of-type {\n        vertical-align: middle;\n    }\n\n    .dataframe tbody tr th {\n        vertical-align: top;\n    }\n\n    .dataframe thead th {\n        text-align: right;\n    }\n</style>\n<table border=\"1\" class=\"dataframe\">\n  <thead>\n    <tr style=\"text-align: right;\">\n      <th></th>\n      <th></th>\n      <th>n</th>\n      <th>%</th>\n    </tr>\n    <tr>\n      <th>feature</th>\n      <th>value</th>\n      <th></th>\n      <th></th>\n    </tr>\n  </thead>\n  <tbody>\n    <tr>\n      <th rowspan=\"5\" valign=\"top\">Color or race</th>\n      <th>Brown</th>\n      <td>5013</td>\n      <td>47.45</td>\n    </tr>\n    <tr>\n      <th>White</th>\n      <td>4847</td>\n      <td>45.88</td>\n    </tr>\n    <tr>\n      <th>Black</th>\n      <td>606</td>\n      <td>5.74</td>\n    </tr>\n    <tr>\n      <th>Yellow</th>\n      <td>68</td>\n      <td>0.64</td>\n    </tr>\n    <tr>\n      <th>Indigenous</th>\n      <td>30</td>\n      <td>0.28</td>\n    </tr>\n    <tr>\n      <th rowspan=\"3\" valign=\"top\">Sex</th>\n      <th>Female</th>\n      <td>6198</td>\n      <td>50.54</td>\n    </tr>\n    <tr>\n      <th>Male</th>\n      <td>6053</td>\n      <td>49.36</td>\n    </tr>\n    <tr>\n      <th>Undetermined</th>\n      <td>13</td>\n      <td>0.11</td>\n    </tr>\n    <tr>\n      <th rowspan=\"5\" valign=\"top\">Birth region</th>\n      <th>Southeast</th>\n      <td>3731</td>\n      <td>38.15</td>\n    </tr>\n    <tr>\n      <th>Northeast</th>\n      <td>3713</td>\n      <td>37.97</td>\n    </tr>\n    <tr>\n      <th>South</th>\n      <td>1657</td>\n      <td>16.94</td>\n    </tr>\n    <tr>\n      <th>North</th>\n      <td>666</td>\n      <td>6.81</td>\n    </tr>\n    <tr>\n      <th>Born in other countries</th>\n      <td>12</td>\n      <td>0.12</td>\n    </tr>\n    <tr>\n      <th rowspan=\"4\" valign=\"top\">Residence region</th>\n      <th>Southeast</th>\n      <td>3960</td>\n      <td>37.32</td>\n    </tr>\n    <tr>\n      <th>Northeast</th>\n      <td>3935</td>\n      <td>37.08</td>\n    </tr>\n    <tr>\n      <th>South</th>\n      <td>2080</td>\n      <td>19.60</td>\n    </tr>\n    <tr>\n      <th>North</th>\n      <td>637</td>\n      <td>6.00</td>\n    </tr>\n  </tbody>\n</table>\n</div>"
     },
     "metadata": {},
     "output_type": "display_data"
    }
   ],
   "source": [
    "df = create_descriptive_table(id_df, ['color_or_race', 'sex', 'birth_region', 'residence_region'])\n",
    "display(df)"
   ],
   "metadata": {
    "collapsed": false,
    "ExecuteTime": {
     "end_time": "2023-12-09T21:06:38.203900500Z",
     "start_time": "2023-12-09T21:06:37.003428500Z"
    }
   },
   "id": "691643ff512c275a"
  },
  {
   "cell_type": "markdown",
   "source": [
    "## Table 2\n",
    "Most frequent diagnoses in RARAS and applied coding"
   ],
   "metadata": {
    "collapsed": false
   },
   "id": "778e30072b848ee7"
  },
  {
   "cell_type": "code",
   "execution_count": 12,
   "outputs": [
    {
     "data": {
      "text/plain": "                                                                                      n\nPhenylketonuria (n=166)         orpha 716                                           135\n                                omim 261600                                          24\n                                cid10 E70.0                                           7\nCystic Fibrosis (n=383)         cid10 E84.9                                         150\n                                cid10 E84.0                                          81\n                                orpha 586                                            74\n                                cid10 E84.8                                          66\n                                cid10 E84.1                                           9\n                                omim 219700                                           3\nAcromegaly (n=375)              cid10 E22.0                                         277\n                                orpha 963                                            98\nOsteogenesis Imperfecta (n=352) cid10 Q78.0                                         174\n                                orpha 666                                            58\n                                orpha 216796                                         55\n                                orpha 216820                                         33\n                                orpha 216812                                         23\n                                orpha 2771                                            3\n                                omim 610682 - 610915 - 610967 - 610968 - 613848...    3\n                                orpha 216804                                          1\n                                orpha 216828                                          1\n                                omim 610967                                           1",
      "text/html": "<div>\n<style scoped>\n    .dataframe tbody tr th:only-of-type {\n        vertical-align: middle;\n    }\n\n    .dataframe tbody tr th {\n        vertical-align: top;\n    }\n\n    .dataframe thead th {\n        text-align: right;\n    }\n</style>\n<table border=\"1\" class=\"dataframe\">\n  <thead>\n    <tr style=\"text-align: right;\">\n      <th></th>\n      <th></th>\n      <th>n</th>\n    </tr>\n  </thead>\n  <tbody>\n    <tr>\n      <th rowspan=\"3\" valign=\"top\">Phenylketonuria (n=166)</th>\n      <th>orpha 716</th>\n      <td>135</td>\n    </tr>\n    <tr>\n      <th>omim 261600</th>\n      <td>24</td>\n    </tr>\n    <tr>\n      <th>cid10 E70.0</th>\n      <td>7</td>\n    </tr>\n    <tr>\n      <th rowspan=\"6\" valign=\"top\">Cystic Fibrosis (n=383)</th>\n      <th>cid10 E84.9</th>\n      <td>150</td>\n    </tr>\n    <tr>\n      <th>cid10 E84.0</th>\n      <td>81</td>\n    </tr>\n    <tr>\n      <th>orpha 586</th>\n      <td>74</td>\n    </tr>\n    <tr>\n      <th>cid10 E84.8</th>\n      <td>66</td>\n    </tr>\n    <tr>\n      <th>cid10 E84.1</th>\n      <td>9</td>\n    </tr>\n    <tr>\n      <th>omim 219700</th>\n      <td>3</td>\n    </tr>\n    <tr>\n      <th rowspan=\"2\" valign=\"top\">Acromegaly (n=375)</th>\n      <th>cid10 E22.0</th>\n      <td>277</td>\n    </tr>\n    <tr>\n      <th>orpha 963</th>\n      <td>98</td>\n    </tr>\n    <tr>\n      <th rowspan=\"10\" valign=\"top\">Osteogenesis Imperfecta (n=352)</th>\n      <th>cid10 Q78.0</th>\n      <td>174</td>\n    </tr>\n    <tr>\n      <th>orpha 666</th>\n      <td>58</td>\n    </tr>\n    <tr>\n      <th>orpha 216796</th>\n      <td>55</td>\n    </tr>\n    <tr>\n      <th>orpha 216820</th>\n      <td>33</td>\n    </tr>\n    <tr>\n      <th>orpha 216812</th>\n      <td>23</td>\n    </tr>\n    <tr>\n      <th>orpha 2771</th>\n      <td>3</td>\n    </tr>\n    <tr>\n      <th>omim 610682 - 610915 - 610967 - 610968 - 613848 - 613849 - 613982 - 614856 - 615066 - 615220 - 616229 - 616507 - 166200 - 166210 - 166220 - 166230 - 259420 - 259440</th>\n      <td>3</td>\n    </tr>\n    <tr>\n      <th>orpha 216804</th>\n      <td>1</td>\n    </tr>\n    <tr>\n      <th>orpha 216828</th>\n      <td>1</td>\n    </tr>\n    <tr>\n      <th>omim 610967</th>\n      <td>1</td>\n    </tr>\n  </tbody>\n</table>\n</div>"
     },
     "metadata": {},
     "output_type": "display_data"
    }
   ],
   "source": [
    "s = create_disease_count(diag_df[_mask][['disease_orpha', 'disease_omim', 'disease_cid10']])\n",
    "display(s.to_frame())"
   ],
   "metadata": {
    "collapsed": false,
    "ExecuteTime": {
     "end_time": "2023-12-09T21:06:38.285203400Z",
     "start_time": "2023-12-09T21:06:37.061577Z"
    }
   },
   "id": "fc9e1aa62f1dd788"
  },
  {
   "cell_type": "markdown",
   "source": [
    "## Table 3 ✔\n",
    "Most Frequent Signs and Symptoms, Causes of Hospitalization, and Causes of Death"
   ],
   "metadata": {
    "collapsed": false
   },
   "id": "71b7e61037d9ebd6"
  },
  {
   "cell_type": "code",
   "execution_count": 13,
   "outputs": [
    {
     "name": "stdout",
     "output_type": "stream",
     "text": [
      "\u001B[1m\u001B[38;5;220mMost Frequent Signs and Symptoms\u001B[0m\n"
     ]
    },
    {
     "data": {
      "text/plain": "HP:0001263    1234\nHP:0001250     728\nHP:0004322     668\nHP:0001249     507\nHP:0001252     447\nHP:0005982     391\nHP:0001324     386\nHP:0002315     329\nHP:0000252     319\nHP:0002015     298\nName: symptoms, dtype: int64"
     },
     "metadata": {},
     "output_type": "display_data"
    },
    {
     "name": "stdout",
     "output_type": "stream",
     "text": [
      "\u001B[1m\u001B[38;5;220mMost Frequent Causes of Hospitalization\u001B[0m\n"
     ]
    },
    {
     "data": {
      "text/plain": "E22.0    188\nQ78.0    160\nE84      123\nG12.2     85\nJ18       65\nJ18.9     54\nE25       50\nE84.0     46\nR56       37\nG71.0     33\nName: cid10_hospitalization, dtype: int64"
     },
     "metadata": {},
     "output_type": "display_data"
    },
    {
     "name": "stdout",
     "output_type": "stream",
     "text": [
      "\u001B[1m\u001B[38;5;220mMost Frequent Causes of Death\u001B[0m\n"
     ]
    },
    {
     "data": {
      "text/plain": "G12.2    28\nE84      10\nI46       6\nJ96       3\nJ96.0     3\nR09.2     3\nJ96.9     2\nA41.9     2\nA41       2\nJ38.4     2\nName: cid10_death, dtype: int64"
     },
     "metadata": {},
     "output_type": "display_data"
    }
   ],
   "source": [
    "print(f'{Y}Most Frequent Signs and Symptoms{R}')\n",
    "display(diag_df['symptoms'].str.split(', ').explode().str.strip().value_counts().head(10))\n",
    "\n",
    "print(f'{Y}Most Frequent Causes of Hospitalization{R}')\n",
    "display(followup_df['cid10_hospitalization'].value_counts().head(10))\n",
    "\n",
    "print(f'{Y}Most Frequent Causes of Death{R}')\n",
    "display(followup_df['cid10_death'].value_counts().head(10))"
   ],
   "metadata": {
    "collapsed": false,
    "ExecuteTime": {
     "end_time": "2023-12-09T21:06:38.699635400Z",
     "start_time": "2023-12-09T21:06:37.233477800Z"
    }
   },
   "id": "c354de2167d9c531"
  },
  {
   "cell_type": "markdown",
   "source": [
    "## Table 4 \n",
    "Comparative analysis based on diagnostic status"
   ],
   "metadata": {
    "collapsed": false
   },
   "id": "df762a6d79ebf9d2"
  },
  {
   "cell_type": "code",
   "execution_count": 14,
   "outputs": [],
   "source": [
    "# Create masks to filter by record_id\n",
    "status_ids = {\n",
    "    'Confirmed': diag_df['record_id'][confirmed_diag_mask],\n",
    "    'Suspect': diag_df['record_id'][suspect_diag_mask],\n",
    "    'Undiagnosed': diag_df['record_id'][undiagnosed_mask],\n",
    "}\n",
    "\n",
    "# Setup variables to group categorical features\n",
    "id_numeric_columns = [\n",
    "    'age', 'age_at_first_evaluation_at_center', 'age_at_first_evaluation_at_specialty', \n",
    "    'length_of_follow_up_at_center', 'length_of_follow_up_at_specialty']\n",
    "diag_numeric_columns = ['age_at_symptoms_onset', 'maternal_age_at_birth', 'paternal_age_at_birth']\n",
    "followup_numeric_columns = ['number_of_hospitalizations']\n",
    "join_mean_std_columns = lambda x: x['mean'].round(2).astype(str) + ' (±' + x['std'].round(2).astype(str) + ')'\n",
    "joined_column_name = 'Mean (±SD)'\n",
    "describe_columns = ['mean', 'std']\n",
    "\n",
    "numerical_grouped_df = pd.DataFrame()\n",
    "for status_name, status_mask in status_ids.items():\n",
    "    partial_df = (\n",
    "        pd.concat([\n",
    "            df[df['record_id'].isin(status_mask)][columns].describe().T[describe_columns]\n",
    "            for df, columns in [\n",
    "                (id_df, id_numeric_columns),\n",
    "                (diag_df, diag_numeric_columns),\n",
    "                (followup_df, followup_numeric_columns),\n",
    "            ]\n",
    "        ])\n",
    "        .assign(joined_column=join_mean_std_columns)\n",
    "        .drop(columns=describe_columns)\n",
    "        .rename(columns={'joined_column': joined_column_name})\n",
    "        )\n",
    "    numerical_grouped_df = pd.concat([numerical_grouped_df, partial_df], axis=1)\n",
    "\n",
    "# Add Mulindex\n",
    "numerical_grouped_df.columns = pd.MultiIndex.from_product([status_ids.keys(), [joined_column_name]])"
   ],
   "metadata": {
    "collapsed": false,
    "ExecuteTime": {
     "end_time": "2023-12-09T21:06:38.703957100Z",
     "start_time": "2023-12-09T21:06:37.324918100Z"
    }
   },
   "id": "a664b33a748514e6"
  },
  {
   "cell_type": "code",
   "execution_count": 15,
   "outputs": [],
   "source": [
    "# Setup variables to group categorical features\n",
    "id_categorical_columns = ['color_or_race', 'sex', 'birth_region', 'residence_region']\n",
    "diag_categorical_columns = ['family_recurrence', 'consanguinity']\n",
    "followup_categorical_columns = ['previous_hospitalization', 'death']\n",
    "trat_categorical_columns = ['treatment_related_to_rare_disease']\n",
    "join_categorical_columns = lambda x: x['n'].round(2).astype(str) + ' (' + x['%'].round(2).astype(str) + '%)'\n",
    "joined_column_name = 'N (%)'\n",
    "value_count_columns = ['n', '%']\n",
    "\n",
    "categorical_grouped_df = pd.DataFrame()\n",
    "for status_name, status_mask in status_ids.items():\n",
    "    partial_df = (\n",
    "        pd.concat([\n",
    "            create_descriptive_table(df[df['record_id'].isin(status_mask)], columns)\n",
    "            for df, columns in [\n",
    "                (id_df, id_categorical_columns),\n",
    "                (diag_df, diag_categorical_columns),\n",
    "                (followup_df, followup_categorical_columns),\n",
    "                (trat_df, trat_categorical_columns),\n",
    "            ]\n",
    "        ])\n",
    "        .assign(joined_column=join_categorical_columns)\n",
    "        .drop(columns=value_count_columns)\n",
    "        .rename(columns={'joined_column': joined_column_name})\n",
    "        )\n",
    "    categorical_grouped_df = pd.concat([categorical_grouped_df, partial_df], axis=1)\n",
    "\n",
    "# Add Mulindex\n",
    "categorical_grouped_df.columns = pd.MultiIndex.from_product([status_ids.keys(), [joined_column_name]])"
   ],
   "metadata": {
    "collapsed": false,
    "ExecuteTime": {
     "end_time": "2023-12-09T21:06:38.823399300Z",
     "start_time": "2023-12-09T21:06:37.558937200Z"
    }
   },
   "id": "1622184bbfab340e"
  },
  {
   "cell_type": "code",
   "execution_count": 16,
   "outputs": [
    {
     "name": "stdout",
     "output_type": "stream",
     "text": [
      "\u001B[1m\u001B[38;5;220mConfirmed diagnosis:\u001B[0m 7803\n",
      "\u001B[1m\u001B[38;5;220mSuspected diagnosis:\u001B[0m 2299\n",
      "\u001B[1m\u001B[38;5;220mUndiagnosed:\u001B[0m 2159\n"
     ]
    },
    {
     "data": {
      "text/plain": "                                           Confirmed         Suspect  \\\n                                          Mean (±SD)      Mean (±SD)   \nage                                   22.16 (±20.08)  17.15 (±18.03)   \nage_at_first_evaluation_at_center     16.19 (±19.64)  13.77 (±17.52)   \nage_at_first_evaluation_at_specialty  16.72 (±19.76)  14.71 (±17.92)   \nlength_of_follow_up_at_center            6.19 (±6.7)    3.83 (±5.53)   \nlength_of_follow_up_at_specialty         5.1 (±6.23)    2.51 (±4.44)   \nage_at_symptoms_onset                 10.99 (±17.89)   8.62 (±16.27)   \nmaternal_age_at_birth                   27.7 (±7.11)   27.45 (±6.92)   \npaternal_age_at_birth                  31.72 (±8.37)   31.71 (±8.27)   \nnumber_of_hospitalizations             4.77 (±16.64)    2.89 (±5.03)   \n\n                                         Undiagnosed  \n                                          Mean (±SD)  \nage                                   13.36 (±15.93)  \nage_at_first_evaluation_at_center      9.84 (±15.55)  \nage_at_first_evaluation_at_specialty   11.2 (±15.94)  \nlength_of_follow_up_at_center           3.87 (±5.04)  \nlength_of_follow_up_at_specialty        2.25 (±3.79)  \nage_at_symptoms_onset                   3.44 (±9.48)  \nmaternal_age_at_birth                  27.92 (±7.05)  \npaternal_age_at_birth                  31.74 (±8.52)  \nnumber_of_hospitalizations              2.45 (±3.59)  ",
      "text/html": "<div>\n<style scoped>\n    .dataframe tbody tr th:only-of-type {\n        vertical-align: middle;\n    }\n\n    .dataframe tbody tr th {\n        vertical-align: top;\n    }\n\n    .dataframe thead tr th {\n        text-align: left;\n    }\n</style>\n<table border=\"1\" class=\"dataframe\">\n  <thead>\n    <tr>\n      <th></th>\n      <th>Confirmed</th>\n      <th>Suspect</th>\n      <th>Undiagnosed</th>\n    </tr>\n    <tr>\n      <th></th>\n      <th>Mean (±SD)</th>\n      <th>Mean (±SD)</th>\n      <th>Mean (±SD)</th>\n    </tr>\n  </thead>\n  <tbody>\n    <tr>\n      <th>age</th>\n      <td>22.16 (±20.08)</td>\n      <td>17.15 (±18.03)</td>\n      <td>13.36 (±15.93)</td>\n    </tr>\n    <tr>\n      <th>age_at_first_evaluation_at_center</th>\n      <td>16.19 (±19.64)</td>\n      <td>13.77 (±17.52)</td>\n      <td>9.84 (±15.55)</td>\n    </tr>\n    <tr>\n      <th>age_at_first_evaluation_at_specialty</th>\n      <td>16.72 (±19.76)</td>\n      <td>14.71 (±17.92)</td>\n      <td>11.2 (±15.94)</td>\n    </tr>\n    <tr>\n      <th>length_of_follow_up_at_center</th>\n      <td>6.19 (±6.7)</td>\n      <td>3.83 (±5.53)</td>\n      <td>3.87 (±5.04)</td>\n    </tr>\n    <tr>\n      <th>length_of_follow_up_at_specialty</th>\n      <td>5.1 (±6.23)</td>\n      <td>2.51 (±4.44)</td>\n      <td>2.25 (±3.79)</td>\n    </tr>\n    <tr>\n      <th>age_at_symptoms_onset</th>\n      <td>10.99 (±17.89)</td>\n      <td>8.62 (±16.27)</td>\n      <td>3.44 (±9.48)</td>\n    </tr>\n    <tr>\n      <th>maternal_age_at_birth</th>\n      <td>27.7 (±7.11)</td>\n      <td>27.45 (±6.92)</td>\n      <td>27.92 (±7.05)</td>\n    </tr>\n    <tr>\n      <th>paternal_age_at_birth</th>\n      <td>31.72 (±8.37)</td>\n      <td>31.71 (±8.27)</td>\n      <td>31.74 (±8.52)</td>\n    </tr>\n    <tr>\n      <th>number_of_hospitalizations</th>\n      <td>4.77 (±16.64)</td>\n      <td>2.89 (±5.03)</td>\n      <td>2.45 (±3.59)</td>\n    </tr>\n  </tbody>\n</table>\n</div>"
     },
     "metadata": {},
     "output_type": "display_data"
    },
    {
     "data": {
      "text/plain": "                                                                   Confirmed  \\\n                                                                       N (%)   \nfeature                           value                                        \nColor or race                     White                        3156 (47.33%)   \n                                  Brown                        3036 (45.53%)   \n                                  Black                          415 (6.22%)   \n                                  Yellow                           40 (0.6%)   \n                                  Indigenous                      21 (0.31%)   \nSex                               Female                       4108 (53.13%)   \n                                  Male                         3617 (46.78%)   \n                                  Undetermined                     7 (0.09%)   \nBirth region                      Southeast                    2412 (39.52%)   \n                                  Northeast                    2190 (35.88%)   \n                                  South                        1182 (19.36%)   \n                                  North                          312 (5.11%)   \n                                  Born in other countries          8 (0.13%)   \nResidence region                  Southeast                    2567 (37.86%)   \n                                  Northeast                    2347 (34.62%)   \n                                  South                         1573 (23.2%)   \n                                  North                          293 (4.32%)   \nFamily recurrence                 No                            4819 (73.8%)   \n                                  Yes                           1711 (26.2%)   \nConsanguinity                     No                           5384 (92.52%)   \n                                  Yes                            435 (7.48%)   \nPrevious hospitalization          No                           4365 (56.44%)   \n                                  Yes                          3369 (43.56%)   \nDeath                             No                           7612 (98.42%)   \n                                  Yes                            122 (1.58%)   \nTreatment related to rare disease Related to rare disease      5397 (69.37%)   \n                                  Not related to rare disease  2383 (30.63%)   \n\n                                                                     Suspect  \\\n                                                                       N (%)   \nfeature                           value                                        \nColor or race                     White                         761 (39.09%)   \n                                  Brown                        1068 (54.85%)   \n                                  Black                          102 (5.24%)   \n                                  Yellow                          11 (0.56%)   \n                                  Indigenous                       5 (0.26%)   \nSex                               Female                       1074 (47.08%)   \n                                  Male                          1202 (52.7%)   \n                                  Undetermined                     5 (0.22%)   \nBirth region                      Southeast                     592 (33.15%)   \n                                  Northeast                     739 (41.38%)   \n                                  South                         203 (11.37%)   \n                                  North                          250 (14.0%)   \n                                  Born in other countries          2 (0.11%)   \nResidence region                  Southeast                     620 (32.91%)   \n                                  Northeast                      797 (42.3%)   \n                                  South                         224 (11.89%)   \n                                  North                          243 (12.9%)   \nFamily recurrence                 No                           1445 (73.13%)   \n                                  Yes                           531 (26.87%)   \nConsanguinity                     No                           1721 (91.64%)   \n                                  Yes                            157 (8.36%)   \nPrevious hospitalization          No                           1476 (64.65%)   \n                                  Yes                           807 (35.35%)   \nDeath                             No                           2253 (98.69%)   \n                                  Yes                             30 (1.31%)   \nTreatment related to rare disease Related to rare disease       640 (29.92%)   \n                                  Not related to rare disease  1499 (70.08%)   \n\n                                                                 Undiagnosed  \n                                                                       N (%)  \nfeature                           value                                       \nColor or race                     White                         909 (48.48%)  \n                                  Brown                         862 (45.97%)  \n                                  Black                           86 (4.59%)  \n                                  Yellow                          14 (0.75%)  \n                                  Indigenous                       4 (0.21%)  \nSex                               Female                        971 (45.02%)  \n                                  Male                         1185 (54.94%)  \n                                  Undetermined                     1 (0.05%)  \nBirth region                      Southeast                      703 (38.5%)  \n                                  Northeast                     753 (41.24%)  \n                                  South                          272 (14.9%)  \n                                  North                           96 (5.26%)  \n                                  Born in other countries          2 (0.11%)  \nResidence region                  Southeast                      749 (39.8%)  \n                                  Northeast                     757 (40.22%)  \n                                  South                         283 (15.04%)  \n                                  North                           93 (4.94%)  \nFamily recurrence                 No                           1509 (76.99%)  \n                                  Yes                           451 (23.01%)  \nConsanguinity                     No                           1739 (89.69%)  \n                                  Yes                           200 (10.31%)  \nPrevious hospitalization          No                           1460 (67.66%)  \n                                  Yes                           698 (32.34%)  \nDeath                             No                           2138 (99.07%)  \n                                  Yes                             20 (0.93%)  \nTreatment related to rare disease Related to rare disease        401 (20.8%)  \n                                  Not related to rare disease   1527 (79.2%)  ",
      "text/html": "<div>\n<style scoped>\n    .dataframe tbody tr th:only-of-type {\n        vertical-align: middle;\n    }\n\n    .dataframe tbody tr th {\n        vertical-align: top;\n    }\n\n    .dataframe thead tr th {\n        text-align: left;\n    }\n\n    .dataframe thead tr:last-of-type th {\n        text-align: right;\n    }\n</style>\n<table border=\"1\" class=\"dataframe\">\n  <thead>\n    <tr>\n      <th></th>\n      <th></th>\n      <th>Confirmed</th>\n      <th>Suspect</th>\n      <th>Undiagnosed</th>\n    </tr>\n    <tr>\n      <th></th>\n      <th></th>\n      <th>N (%)</th>\n      <th>N (%)</th>\n      <th>N (%)</th>\n    </tr>\n    <tr>\n      <th>feature</th>\n      <th>value</th>\n      <th></th>\n      <th></th>\n      <th></th>\n    </tr>\n  </thead>\n  <tbody>\n    <tr>\n      <th rowspan=\"5\" valign=\"top\">Color or race</th>\n      <th>White</th>\n      <td>3156 (47.33%)</td>\n      <td>761 (39.09%)</td>\n      <td>909 (48.48%)</td>\n    </tr>\n    <tr>\n      <th>Brown</th>\n      <td>3036 (45.53%)</td>\n      <td>1068 (54.85%)</td>\n      <td>862 (45.97%)</td>\n    </tr>\n    <tr>\n      <th>Black</th>\n      <td>415 (6.22%)</td>\n      <td>102 (5.24%)</td>\n      <td>86 (4.59%)</td>\n    </tr>\n    <tr>\n      <th>Yellow</th>\n      <td>40 (0.6%)</td>\n      <td>11 (0.56%)</td>\n      <td>14 (0.75%)</td>\n    </tr>\n    <tr>\n      <th>Indigenous</th>\n      <td>21 (0.31%)</td>\n      <td>5 (0.26%)</td>\n      <td>4 (0.21%)</td>\n    </tr>\n    <tr>\n      <th rowspan=\"3\" valign=\"top\">Sex</th>\n      <th>Female</th>\n      <td>4108 (53.13%)</td>\n      <td>1074 (47.08%)</td>\n      <td>971 (45.02%)</td>\n    </tr>\n    <tr>\n      <th>Male</th>\n      <td>3617 (46.78%)</td>\n      <td>1202 (52.7%)</td>\n      <td>1185 (54.94%)</td>\n    </tr>\n    <tr>\n      <th>Undetermined</th>\n      <td>7 (0.09%)</td>\n      <td>5 (0.22%)</td>\n      <td>1 (0.05%)</td>\n    </tr>\n    <tr>\n      <th rowspan=\"5\" valign=\"top\">Birth region</th>\n      <th>Southeast</th>\n      <td>2412 (39.52%)</td>\n      <td>592 (33.15%)</td>\n      <td>703 (38.5%)</td>\n    </tr>\n    <tr>\n      <th>Northeast</th>\n      <td>2190 (35.88%)</td>\n      <td>739 (41.38%)</td>\n      <td>753 (41.24%)</td>\n    </tr>\n    <tr>\n      <th>South</th>\n      <td>1182 (19.36%)</td>\n      <td>203 (11.37%)</td>\n      <td>272 (14.9%)</td>\n    </tr>\n    <tr>\n      <th>North</th>\n      <td>312 (5.11%)</td>\n      <td>250 (14.0%)</td>\n      <td>96 (5.26%)</td>\n    </tr>\n    <tr>\n      <th>Born in other countries</th>\n      <td>8 (0.13%)</td>\n      <td>2 (0.11%)</td>\n      <td>2 (0.11%)</td>\n    </tr>\n    <tr>\n      <th rowspan=\"4\" valign=\"top\">Residence region</th>\n      <th>Southeast</th>\n      <td>2567 (37.86%)</td>\n      <td>620 (32.91%)</td>\n      <td>749 (39.8%)</td>\n    </tr>\n    <tr>\n      <th>Northeast</th>\n      <td>2347 (34.62%)</td>\n      <td>797 (42.3%)</td>\n      <td>757 (40.22%)</td>\n    </tr>\n    <tr>\n      <th>South</th>\n      <td>1573 (23.2%)</td>\n      <td>224 (11.89%)</td>\n      <td>283 (15.04%)</td>\n    </tr>\n    <tr>\n      <th>North</th>\n      <td>293 (4.32%)</td>\n      <td>243 (12.9%)</td>\n      <td>93 (4.94%)</td>\n    </tr>\n    <tr>\n      <th rowspan=\"2\" valign=\"top\">Family recurrence</th>\n      <th>No</th>\n      <td>4819 (73.8%)</td>\n      <td>1445 (73.13%)</td>\n      <td>1509 (76.99%)</td>\n    </tr>\n    <tr>\n      <th>Yes</th>\n      <td>1711 (26.2%)</td>\n      <td>531 (26.87%)</td>\n      <td>451 (23.01%)</td>\n    </tr>\n    <tr>\n      <th rowspan=\"2\" valign=\"top\">Consanguinity</th>\n      <th>No</th>\n      <td>5384 (92.52%)</td>\n      <td>1721 (91.64%)</td>\n      <td>1739 (89.69%)</td>\n    </tr>\n    <tr>\n      <th>Yes</th>\n      <td>435 (7.48%)</td>\n      <td>157 (8.36%)</td>\n      <td>200 (10.31%)</td>\n    </tr>\n    <tr>\n      <th rowspan=\"2\" valign=\"top\">Previous hospitalization</th>\n      <th>No</th>\n      <td>4365 (56.44%)</td>\n      <td>1476 (64.65%)</td>\n      <td>1460 (67.66%)</td>\n    </tr>\n    <tr>\n      <th>Yes</th>\n      <td>3369 (43.56%)</td>\n      <td>807 (35.35%)</td>\n      <td>698 (32.34%)</td>\n    </tr>\n    <tr>\n      <th rowspan=\"2\" valign=\"top\">Death</th>\n      <th>No</th>\n      <td>7612 (98.42%)</td>\n      <td>2253 (98.69%)</td>\n      <td>2138 (99.07%)</td>\n    </tr>\n    <tr>\n      <th>Yes</th>\n      <td>122 (1.58%)</td>\n      <td>30 (1.31%)</td>\n      <td>20 (0.93%)</td>\n    </tr>\n    <tr>\n      <th rowspan=\"2\" valign=\"top\">Treatment related to rare disease</th>\n      <th>Related to rare disease</th>\n      <td>5397 (69.37%)</td>\n      <td>640 (29.92%)</td>\n      <td>401 (20.8%)</td>\n    </tr>\n    <tr>\n      <th>Not related to rare disease</th>\n      <td>2383 (30.63%)</td>\n      <td>1499 (70.08%)</td>\n      <td>1527 (79.2%)</td>\n    </tr>\n  </tbody>\n</table>\n</div>"
     },
     "metadata": {},
     "output_type": "display_data"
    },
    {
     "name": "stdout",
     "output_type": "stream",
     "text": [
      "\u001B[1;36m* For this analysis, each diagnosis was evaluated independently, considering that a participant may have more than one RD diagnosis.\u001B[0m\n"
     ]
    }
   ],
   "source": [
    "print(f'{Y}Confirmed diagnosis:{R} {confirmed_diag_mask.sum()}')\n",
    "print(f'{Y}Suspected diagnosis:{R} {suspect_diag_mask.sum()}')\n",
    "print(f'{Y}Undiagnosed:{R} {undiagnosed_mask.sum()}')\n",
    "\n",
    "display(numerical_grouped_df)\n",
    "display(categorical_grouped_df)\n",
    "\n",
    "print(f'{C}* For this analysis, each diagnosis was evaluated independently, considering that a participant may have more than one RD diagnosis.{R}')"
   ],
   "metadata": {
    "collapsed": false,
    "ExecuteTime": {
     "end_time": "2023-12-09T21:06:38.889786100Z",
     "start_time": "2023-12-09T21:06:37.891064500Z"
    }
   },
   "id": "70eec584791c18bc"
  }
 ],
 "metadata": {
  "kernelspec": {
   "display_name": "Python 3",
   "language": "python",
   "name": "python3"
  },
  "language_info": {
   "codemirror_mode": {
    "name": "ipython",
    "version": 2
   },
   "file_extension": ".py",
   "mimetype": "text/x-python",
   "name": "python",
   "nbconvert_exporter": "python",
   "pygments_lexer": "ipython2",
   "version": "2.7.6"
  }
 },
 "nbformat": 4,
 "nbformat_minor": 5
}
